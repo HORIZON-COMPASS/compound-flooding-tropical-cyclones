{
 "cells": [
  {
   "cell_type": "markdown",
   "id": "bc6cc581",
   "metadata": {},
   "source": [
    "### Necessary imports"
   ]
  },
  {
   "cell_type": "code",
   "execution_count": 1,
   "id": "31527e43",
   "metadata": {},
   "outputs": [
    {
     "name": "stderr",
     "output_type": "stream",
     "text": [
      "c:\\Users\\aleksand\\AppData\\Local\\mambaforge\\envs\\dfm_tools_env\\Lib\\site-packages\\tqdm\\auto.py:21: TqdmWarning: IProgress not found. Please update jupyter and ipywidgets. See https://ipywidgets.readthedocs.io/en/stable/user_install.html\n",
      "  from .autonotebook import tqdm as notebook_tqdm\n"
     ]
    }
   ],
   "source": [
    "# more advanced grid generation in https://github.com/Deltares/dfm_tools/blob/main/tests/examples_workinprogress/workinprogress_meshkernel_creategrid.py\n",
    "# more advanced modelbuilding in https://github.com/Deltares/dfm_tools/blob/main/tests/examples_workinprogress/workinprogress_modelbuilder.py\n",
    "import os\n",
    "import matplotlib.pyplot as plt\n",
    "plt.close('all')\n",
    "import dfm_tools as dfmt\n",
    "from dfm_tools import modelbuilder as mb\n",
    "import hydrolib.core.dflowfm as hcdfm\n",
    "import xarray as xr\n",
    "import pandas as pd\n",
    "import contextily as ctx\n",
    "import getpass\n",
    "from pathlib import Path"
   ]
  },
  {
   "cell_type": "markdown",
   "id": "10776ef1",
   "metadata": {},
   "source": [
    "### Settings\n",
    "Run the settings cell of the model to generate, choose from reunion"
   ]
  },
  {
   "cell_type": "code",
   "execution_count": 2,
   "id": "475dde8d",
   "metadata": {},
   "outputs": [],
   "source": [
    "model_name = 'mozambique'"
   ]
  },
  {
   "cell_type": "markdown",
   "id": "1ccb819b",
   "metadata": {},
   "source": [
    "#### Mozambique"
   ]
  },
  {
   "cell_type": "code",
   "execution_count": 48,
   "id": "0042bc31",
   "metadata": {},
   "outputs": [],
   "source": [
    "# Set model name\n",
    "if model_name == 'mozambique':\n",
    "\n",
    "    #Set directory for model\n",
    "    dir_output = Path(r'p:\\11210471-001-compass\\02_Models\\Delft3DFM\\mozambique_modelbuilder')\n",
    "    \n",
    "    # domain and resolution\n",
    "    lon_min, lon_max, lat_min, lat_max = 32, 47, -28, -9\n",
    "    dxy = 0.5                # Basegrid resolution in degrees (0.5 deg is ~50 km)\n",
    "    bnd_dlon_dlat = 1.0/8.0  # Steps along the boundary in degrees\n",
    "    \n",
    "    #Grid settings\n",
    "    is_geographic = True #Spherical grid\n",
    "    crs = 'EPSG:4326'\n",
    "    min_edge_size = 500      # Min cell size after refinement in meters\n",
    "    \n",
    "    #Base MDU to get settings from\n",
    "    base_mdu = Path(r'p:\\11210471-001-compass\\02_Models\\Delft3DFM\\mozambique_modelbuilder\\GTSM_base_model_settings.mdu')\n",
    "    \n",
    "    #path style specifications, windows and path_relative results in a unix & windows compatible model\n",
    "    path_style = 'windows' # windows / unix\n",
    "    paths_relative = True\n",
    "    \n",
    "    #Wheter or not to overwrite existing meteo download files\n",
    "    overwrite = False # used for downloading of forcing data. Always set to True when changing the domain\n",
    "    \n",
    "    #Re-interpolated boundary forcingmodel\n",
    "    overwrite_tidal_boundary = False\n",
    "    \n",
    "    #dates as understood by pandas.period_range(). ERA5 has freq='M' (month) and CMEMS has freq='D' (day)\n",
    "    date_min = '2019-03-01' \n",
    "    date_max = '2019-03-16'\n",
    "    ref_date = date_min\n",
    "    \n",
    "    # Settings for adding SFINCS observation points\n",
    "    # Use this for adding observation point from a SFINCS boundary file\n",
    "    add_sfincs_observations_from_bnd = True\n",
    "    add_sfincs_observations_from_coastline = False\n",
    "    \n",
    "    sfincs_models = {'sofala': {'bnd_file': Path(r'..\\..\\sfincs_sofala\\sfincs_sofala\\sfincs.bnd'),\n",
    "                                 'epsg': 'epsg:32736',\n",
    "                                 'lon_min_sfincs' : 34.33,\n",
    "                                 'lon_max_sfincs' : 34.95,\n",
    "                                 'lat_min_sfincs' : -20.12,\n",
    "                                 'lat_max_sfincs' : -19.30,\n",
    "                                 'interval_coastline' : 0.05,\n",
    "                                 'resolution_coastline': 'i',\n",
    "                                 'threshold_mindepth' : 5}\n",
    "                    }\n"
   ]
  },
  {
   "cell_type": "code",
   "execution_count": 4,
   "id": "a659f0f8",
   "metadata": {},
   "outputs": [
    {
     "data": {
      "text/plain": [
       "['data', 'GTSM_base_model_settings.mdu', 'sfincs']"
      ]
     },
     "execution_count": 4,
     "metadata": {},
     "output_type": "execute_result"
    }
   ],
   "source": [
    "# make dirs and list all files\n",
    "os.makedirs(dir_output, exist_ok=True)\n",
    "dir_output_data = os.path.join(dir_output, 'data')\n",
    "os.makedirs(dir_output_data, exist_ok=True)\n",
    "dir_output_sfincs = os.path.join(dir_output, 'sfincs')\n",
    "os.makedirs(dir_output_sfincs, exist_ok=True)\n",
    "os.listdir(dir_output)"
   ]
  },
  {
   "cell_type": "markdown",
   "id": "bb8b737e",
   "metadata": {},
   "source": [
    "## Grid generation and refinement with meshkernelpy\n",
    "\n",
    "Notebook with more details exposed: https://github.com/Deltares/MeshKernelPy/blob/main/docs/examples/06_mesh2d_refinement_gridded_samples_gebco.ipynb"
   ]
  },
  {
   "cell_type": "code",
   "execution_count": 49,
   "id": "f0c1d167",
   "metadata": {},
   "outputs": [
    {
     "name": "stdout",
     "output_type": "stream",
     "text": [
      "Basegrid created\n",
      ">> reading coastlines: 2.89 sec\n",
      "attemting to merge lines in MultiLineString to single LineString (if connected)\n"
     ]
    }
   ],
   "source": [
    "#generate spherical regular grid\n",
    "mk_object = dfmt.make_basegrid(lon_min, lon_max, lat_min, lat_max, dx=dxy, dy=dxy, crs=crs)\n",
    "print('Basegrid created')\n",
    "\n",
    "# generate plifile from grid extent and coastlines\n",
    "bnd_gdf = dfmt.generate_bndpli_cutland(mk=mk_object, res='h', buffer=0.01)\n",
    "bnd_gdf['name'] = f'{model_name}_bnd'\n",
    "bnd_gdf_interp = dfmt.interpolate_bndpli(bnd_gdf,res=bnd_dlon_dlat)"
   ]
  },
  {
   "cell_type": "code",
   "execution_count": 51,
   "id": "e3a9590c",
   "metadata": {},
   "outputs": [
    {
     "data": {
      "text/html": [
       "<div>\n",
       "<style scoped>\n",
       "    .dataframe tbody tr th:only-of-type {\n",
       "        vertical-align: middle;\n",
       "    }\n",
       "\n",
       "    .dataframe tbody tr th {\n",
       "        vertical-align: top;\n",
       "    }\n",
       "\n",
       "    .dataframe thead th {\n",
       "        text-align: right;\n",
       "    }\n",
       "</style>\n",
       "<table border=\"1\" class=\"dataframe\">\n",
       "  <thead>\n",
       "    <tr style=\"text-align: right;\">\n",
       "      <th></th>\n",
       "      <th>geometry</th>\n",
       "      <th>name</th>\n",
       "    </tr>\n",
       "  </thead>\n",
       "  <tbody>\n",
       "    <tr>\n",
       "      <th>0</th>\n",
       "      <td>LINESTRING (47.00000 -25.05213, 47.00000 -25.1...</td>\n",
       "      <td>mozambique_bnd0</td>\n",
       "    </tr>\n",
       "    <tr>\n",
       "      <th>1</th>\n",
       "      <td>LINESTRING (39.34706 -8.55386, 39.47206 -8.55386)</td>\n",
       "      <td>mozambique_bnd1</td>\n",
       "    </tr>\n",
       "    <tr>\n",
       "      <th>2</th>\n",
       "      <td>LINESTRING (39.57464 -8.55386, 39.69964 -8.553...</td>\n",
       "      <td>mozambique_bnd2</td>\n",
       "    </tr>\n",
       "    <tr>\n",
       "      <th>3</th>\n",
       "      <td>LINESTRING (47.00000 -15.44449, 47.00000 -15.4...</td>\n",
       "      <td>mozambique_bnd3</td>\n",
       "    </tr>\n",
       "  </tbody>\n",
       "</table>\n",
       "</div>"
      ],
      "text/plain": [
       "                                            geometry             name\n",
       "0  LINESTRING (47.00000 -25.05213, 47.00000 -25.1...  mozambique_bnd0\n",
       "1  LINESTRING (39.34706 -8.55386, 39.47206 -8.55386)  mozambique_bnd1\n",
       "2  LINESTRING (39.57464 -8.55386, 39.69964 -8.553...  mozambique_bnd2\n",
       "3  LINESTRING (47.00000 -15.44449, 47.00000 -15.4...  mozambique_bnd3"
      ]
     },
     "execution_count": 51,
     "metadata": {},
     "output_type": "execute_result"
    }
   ],
   "source": [
    "#   TEMPORARY FIX - CHECK WHY ALL POLYLINES HAVE SAME NAME (CAUSES ERROR)\n",
    "bnd_gdf_interp.loc[0,'name'] = 'mozambique_bnd0'\n",
    "bnd_gdf_interp.loc[1,'name'] = 'mozambique_bnd1'\n",
    "bnd_gdf_interp.loc[2,'name'] = 'mozambique_bnd2'\n",
    "bnd_gdf_interp.loc[3,'name'] = 'mozambique_bnd3'\n",
    "bnd_gdf_interp"
   ]
  },
  {
   "cell_type": "code",
   "execution_count": 52,
   "id": "e8a581c5",
   "metadata": {},
   "outputs": [
    {
     "name": "stdout",
     "output_type": "stream",
     "text": [
      "Boundary polygon created\n",
      ">> reading coastlines: 2.47 sec\n"
     ]
    },
    {
     "data": {
      "image/png": "[encoded data removed]",
      "text/plain": [
       "<Figure size 640x480 with 1 Axes>"
      ]
     },
     "metadata": {},
     "output_type": "display_data"
    }
   ],
   "source": [
    "# create grid\n",
    "poly_file = os.path.join(dir_output, f'{model_name}.pli')\n",
    "pli_polyfile = dfmt.geodataframe_to_PolyFile(bnd_gdf_interp)\n",
    "pli_polyfile.save(poly_file)\n",
    "print('Boundary polygon created')\n",
    "\n",
    "#plot basegrid and polyline\n",
    "fig, ax = plt.subplots()\n",
    "mk_object.mesh2d_get().plot_edges(ax,zorder=1)\n",
    "bnd_gdf_interp.plot(ax=ax, edgecolor='r')\n",
    "ctx.add_basemap(ax=ax, crs=crs, attribution=False)\n",
    "dfmt.plot_coastlines(ax=ax, crs=crs)\n"
   ]
  },
  {
   "cell_type": "code",
   "execution_count": 53,
   "id": "4f3429ea",
   "metadata": {},
   "outputs": [],
   "source": [
    "# refine grid\n",
    "\n",
    "# use GEBCO bathymetry\n",
    "file_gebco = Path(r'p:\\metocean-data\\open\\GEBCO\\2021\\GEBCO_2021.nc')\n",
    "data_bathy_sel = xr.open_mfdataset(file_gebco)\n",
    "\n",
    "#Only select the relevant part of bathymetry from GEBCO\n",
    "data_bathy_sel = data_bathy_sel.sel(lon=slice(lon_min-1, lon_max+1), lat=slice(lat_min-1, lat_max+1))\n",
    "\n",
    "#refine\n",
    "dfmt.refine_basegrid(mk=mk_object, data_bathy_sel=data_bathy_sel['elevation'], min_edge_size=min_edge_size)\n",
    "\n",
    "#plot\n",
    "fig, ax = plt.subplots()\n",
    "mk_object.mesh2d_get().plot_edges(ax,zorder=1)\n",
    "ctx.add_basemap(ax=ax, crs=crs, attribution=False)\n",
    "dfmt.plot_coastlines(ax=ax, crs=crs)\n"
   ]
  },
  {
   "cell_type": "code",
   "execution_count": null,
   "id": "50b21c40",
   "metadata": {},
   "outputs": [],
   "source": [
    "# remove land with GSHHS coastlines\n",
    "dfmt.meshkernel_delete_withcoastlines(mk=mk_object, res='h')\n",
    "\n",
    "#plot\n",
    "fig, ax = plt.subplots()\n",
    "mk_object.mesh2d_get().plot_edges(ax,zorder=1)\n",
    "ctx.add_basemap(ax=ax, crs=crs, attribution=False)\n",
    "dfmt.plot_coastlines(ax=ax, crs=crs)\n"
   ]
  },
  {
   "cell_type": "code",
   "execution_count": null,
   "id": "291abec0",
   "metadata": {},
   "outputs": [],
   "source": [
    "#convert to xugrid, interpolate z-values and write to netcdf\n",
    "xu_grid_uds = dfmt.meshkernel_to_UgridDataset(mk=mk_object, crs=crs)\n",
    "\n",
    "#interp bathy\n",
    "data_bathy_interp = data_bathy_sel.interp(lon=xu_grid_uds.obj.mesh2d_node_x, lat=xu_grid_uds.obj.mesh2d_node_y).reset_coords(['lat','lon'])\n",
    "xu_grid_uds['mesh2d_node_z'] = data_bathy_interp.elevation.clip(max=10)\n",
    "\n",
    "#plot bathy and grid\n",
    "fig, ax = plt.subplots(figsize=(8,4))\n",
    "xu_grid_uds.mesh2d_node_z.ugrid.plot(ax=ax,center=False)\n",
    "xu_grid_uds.grid.plot(ax=ax,linewidth=0.5,color='white',alpha=0.2)\n",
    "ctx.add_basemap(ax=ax, crs=crs, attribution=False)\n",
    "dfmt.plot_coastlines(ax=ax, crs=crs)\n",
    "\n",
    "#write xugrid grid to netcdf\n",
    "netfile  = os.path.join(dir_output, f'{model_name}_net.nc')\n",
    "xu_grid_uds.ugrid.to_netcdf(netfile)\n"
   ]
  },
  {
   "cell_type": "markdown",
   "id": "9a42a849",
   "metadata": {},
   "source": [
    "## Generate boundary conditions from GTSMv4.1"
   ]
  },
  {
   "cell_type": "code",
   "execution_count": null,
   "id": "edfc0c61",
   "metadata": {},
   "outputs": [],
   "source": [
    "# new ext: initial and open boundary condition\n",
    "bc_filename = os.path.join(dir_output, f'{model_name}_tidal_boundary.bc')\n",
    "ext_file_new = os.path.join(dir_output, f'{model_name}_new.ext')\n",
    "\n",
    "ext_new = hcdfm.ExtModel()\n",
    "if (not overwrite_tidal_boundary) and os.path.exists(bc_filename): #Create new tidal boundary\n",
    "    #Load it from file\n",
    "    ForcingModel = hcdfm.ForcingModel(bc_filename)\n",
    "else: #Create new tidal boundary\n",
    "    ForcingModel = dfmt.interpolate_tide_to_bc('GTSMv4.1', poly_file)\n",
    "    ForcingModel.save(filepath=bc_filename,path_style=path_style)\n",
    "\n",
    "#add boundary to new ext file\n",
    "boundary_object = hcdfm.Boundary(quantity='waterlevelbnd', #the FM quantity for tide is also waterlevelbnd\n",
    "                                 locationfile=poly_file,\n",
    "                                 forcingfile=ForcingModel)\n",
    "ext_new.boundary.append(boundary_object)\n",
    "\n",
    "#Save new ext forcing file\n",
    "ext_new.save(filepath=ext_file_new,path_style=path_style)\n"
   ]
  },
  {
   "cell_type": "markdown",
   "id": "f3f508fd",
   "metadata": {},
   "source": [
    "## Generate ERA5 meteo forcing (old ext)"
   ]
  },
  {
   "cell_type": "code",
   "execution_count": null,
   "id": "05ea6ee6",
   "metadata": {},
   "outputs": [],
   "source": [
    "# old ext\n",
    "\n",
    "# CMEMS - initial condition file\n",
    "ext_file_old = os.path.join(dir_output, f'{model_name}_old.ext')\n",
    "ext_old = hcdfm.ExtOldModel()\n",
    "\n",
    "# ERA5 - download\n",
    "dir_output_data_era5 = os.path.join(dir_output_data,'ERA5')\n",
    "os.makedirs(dir_output_data_era5, exist_ok=True)\n",
    "    \n",
    "varlist_list = [['msl','u10n','v10n','chnk']]\n",
    "\n",
    "for varlist in varlist_list:\n",
    "    for varkey in varlist:\n",
    "        dfmt.download_ERA5(varkey, \n",
    "                           longitude_min=lon_min-1, longitude_max=lon_max+1, latitude_min=lat_min-1, latitude_max=lat_max+2,\n",
    "                           date_min=date_min, date_max=date_max,\n",
    "                           dir_output=dir_output_data_era5, overwrite=overwrite)\n",
    "\n",
    "# ERA5 meteo - convert to netCDF for usage in Delft3D FM\n",
    "ext_old = mb.preprocess_merge_meteofiles_era5(ext_old=ext_old,\n",
    "                                              varkey_list = varlist_list,\n",
    "                                              dir_data = dir_output_data_era5,\n",
    "                                              dir_output = dir_output,\n",
    "                                              time_slice = slice(date_min, date_max))\n",
    "\n",
    "ext_old.save(filepath=ext_file_old,path_style=path_style)\n"
   ]
  },
  {
   "cell_type": "code",
   "execution_count": null,
   "id": "aa42e934",
   "metadata": {},
   "outputs": [],
   "source": [
    "# plot ERA5 data example\n",
    "file_era5 = os.path.join(dir_output,'data','ERA5','*.nc')\n",
    "ds_era5 = xr.open_mfdataset(file_era5)\n",
    "ds_era5\n",
    "\n",
    "#plot\n",
    "fig, (ax1,ax2) = plt.subplots(1,2,figsize=(10,5))\n",
    "ds_era5.u10n.isel(time=0).plot(ax=ax1)\n",
    "dfmt.plot_coastlines(ax=ax1, crs=crs)\n",
    "ds_era5.v10n.isel(time=0).plot(ax=ax2)\n",
    "dfmt.plot_coastlines(ax=ax2, crs=crs, res= 'l')\n",
    "fig.tight_layout()\n"
   ]
  },
  {
   "cell_type": "markdown",
   "id": "0c82e590",
   "metadata": {},
   "source": [
    "## Generate observation points"
   ]
  },
  {
   "cell_type": "markdown",
   "id": "f817900c",
   "metadata": {},
   "source": [
    "##### Load GTSM observation points, filter points in domain and write .obs file"
   ]
  },
  {
   "cell_type": "code",
   "execution_count": null,
   "id": "b6828c0e",
   "metadata": {},
   "outputs": [],
   "source": [
    "#Initialiase empty list for observation XYNmodels\n",
    "obs_list = [] "
   ]
  },
  {
   "cell_type": "code",
   "execution_count": null,
   "id": "2481ede5",
   "metadata": {},
   "outputs": [],
   "source": [
    "# Load GTSM observation points\n",
    "obs_GTSM = hcdfm.XYNModel(r'p:\\11208614-de-370a\\00_general_data\\DFLOWFM\\GTSM_reference_timeseries\\available_stations_obs.xyn')\n",
    "\n",
    "#Filter obs_GTSM_df to only select point within lon_min, lon_max, lat_min and lat_max\n",
    "from shapely import geometry\n",
    "bounding_box = geometry.Polygon([(lon_min, lat_min),\n",
    "                                (lon_min, lat_max),\n",
    "                                (lon_max, lat_max),\n",
    "                                (lon_max, lat_min)])\n",
    "\n",
    "obspoints = [point for point in obs_GTSM.points \\\n",
    "    if bounding_box.contains(geometry.Point(point.x, point.y))]\n",
    "\n",
    "obs_GTSM = hcdfm.XYNModel(points = obspoints)\n",
    "obs_GTSM.save(dir_output / f'{model_name}_GTSM_obs.xyn')\n",
    "obs_list.append(obs_GTSM)"
   ]
  },
  {
   "cell_type": "markdown",
   "id": "0a8a03f2",
   "metadata": {},
   "source": [
    "##### Add points for SFINCS coupling to model"
   ]
  },
  {
   "cell_type": "code",
   "execution_count": null,
   "id": "3ccd05a2",
   "metadata": {},
   "outputs": [],
   "source": [
    "if add_sfincs_observations_from_bnd:\n",
    "    from Coupling_SFINCS_DFLOWFM import generate_delft3d_obsfile_from_sinfcs_bnd\n",
    "    for sfincs_model, sfincs_model_info in sfincs_models.items():\n",
    "        obsfile_output = dir_output / f'{sfincs_model}_SFINCS_obs.xyn'\n",
    "        obsfile_output_crs = 'epsg:4326'\n",
    "\n",
    "        generate_delft3d_obsfile_from_sinfcs_bnd(sfincs_model_info['bnd_file'],\n",
    "                                                sfincs_model_info['epsg'],\n",
    "                                                obsfile_output,\n",
    "                                                obsfile_output_crs)\n",
    "\n",
    "        obs_SFINCS = hcdfm.XYNModel(obsfile_output)\n",
    "        obs_list.append(obs_SFINCS)"
   ]
  },
  {
   "cell_type": "code",
   "execution_count": null,
   "id": "ba0ac49d",
   "metadata": {},
   "outputs": [],
   "source": [
    "if add_sfincs_observations_from_coastline:\n",
    "    if model_name=='st_maarten':\n",
    "        netfile = dir_output / f'{model_name}_map.nc'\n",
    "    from Coupling_SFINCS_DFLOWFM import generate_coastline_obspoints\n",
    "    for sfincs_model, sfincs_model_info in sfincs_models.items():\n",
    "        obsfile_output = dir_output / f'{sfincs_model}_SFINCS_obs.xyn'\n",
    "        generate_coastline_obspoints(lon_min = sfincs_model_info['lon_min_sfincs'], # degrees\n",
    "                                    lon_max = sfincs_model_info['lon_max_sfincs'], # degrees\n",
    "                                    lat_min = sfincs_model_info['lat_min_sfincs'], # degrees\n",
    "                                    lat_max = sfincs_model_info['lat_max_sfincs'], # degrees\n",
    "                                    interval = sfincs_model_info['interval_coastline'], # degrees\n",
    "                                    resolution = sfincs_model_info['resolution_coastline'], # dfm_tools coastline resolution\n",
    "                                    threshold_mindepth = sfincs_model_info['threshold_mindepth'], # meters\n",
    "                                    file_nc = netfile, # path to netcdf file\n",
    "                                    output_file = obsfile_output)\n",
    "        obs_SFINCS = hcdfm.XYNModel(obsfile_output)\n",
    "        obs_list.append(obs_SFINCS)\n"
   ]
  },
  {
   "cell_type": "code",
   "execution_count": null,
   "id": "af7c3174",
   "metadata": {},
   "outputs": [],
   "source": [
    "if add_sfincs_observations_from_coastline:\n",
    "    from Coupling_SFINCS_DFLOWFM import generate_sfincs_bnd_from_delft3d_xyn\n",
    "    for sfincs_model, sfincs_model_info in sfincs_models.items():\n",
    "        generate_sfincs_bnd_from_delft3d_xyn(obs_file_input = dir_output / f'{sfincs_model}_SFINCS_obs.xyn',\n",
    "                                            obs_file_input_crs = crs,\n",
    "                                            bnd_file_output = Path(dir_output_sfincs) / f'{sfincs_model}.bnd',\n",
    "                                            bnd_file_output_crs = sfincs_model_info['epsg'])"
   ]
  },
  {
   "cell_type": "markdown",
   "id": "0b238951",
   "metadata": {},
   "source": [
    "## Generate mdu file"
   ]
  },
  {
   "cell_type": "code",
   "execution_count": null,
   "id": "a38353d6",
   "metadata": {},
   "outputs": [],
   "source": [
    "mdu = hcdfm.FMModel(base_mdu)\n",
    "\n",
    "mdu.geometry.netfile.filepath = Path(dir_output / f'{model_name}_net.nc')\n",
    "\n",
    "# mdu.external_forcing.extforcefile = ext_old\n",
    "mdu.external_forcing.extforcefilenew = ext_new \n",
    "\n",
    "mdu.time.refdate = pd.Timestamp(ref_date).strftime('%Y%m%d')\n",
    "mdu.time.tunit = 'S'\n",
    "mdu.time.dtmax = 120\n",
    "mdu.time.startdatetime = pd.Timestamp(date_min).strftime('%Y%m%d%H%M%S')\n",
    "mdu.time.stopdatetime = pd.Timestamp(date_max).strftime('%Y%m%d%H%M%S')\n",
    "mdu.time.autotimestep = 1\n",
    "\n",
    "mdu.output.obsfile = obs_list\n",
    "mdu.output.hisinterval = [600]\n",
    "mdu.output.mapinterval = [3600] #[86400]\n",
    "mdu.output.rstinterval = [0] #TODO: default is 0.0, but this translates to [0.0 tstart tstop] instead of [0]: https://github.com/Deltares/HYDROLIB-core/issues/525#issuecomment-1505111924\n",
    "mdu.output.statsinterval = [3600]\n",
    "\n",
    "mdu_file = dir_output / f'{model_name}.mdu'\n",
    "mdu.save(mdu_file,path_style=path_style)"
   ]
  },
  {
   "cell_type": "code",
   "execution_count": null,
   "id": "5516b2b9",
   "metadata": {},
   "outputs": [],
   "source": [
    "#Temporary fix to make all filepaths relative to the basefolder of the model, \n",
    "if paths_relative:\n",
    "    for filename in [mdu_file,ext_file_new]:   # ,ext_file_old\n",
    "        with open(filename, 'r') as file :\n",
    "            filedata = file.read()\n",
    "        filedata = filedata.replace(str(dir_output).replace('\\\\','/')+'/', '') #dir_output or os.path.dirname(mdu_file)\n",
    "        with open(filename, 'w') as file:\n",
    "            file.write(filedata)\n"
   ]
  },
  {
   "cell_type": "markdown",
   "id": "cf77ed64",
   "metadata": {},
   "source": [
    "## Check written files in model directory"
   ]
  },
  {
   "cell_type": "code",
   "execution_count": null,
   "id": "25bcaec2",
   "metadata": {},
   "outputs": [],
   "source": [
    "os.listdir(dir_output)"
   ]
  },
  {
   "cell_type": "code",
   "execution_count": null,
   "id": "962ac4d7",
   "metadata": {},
   "outputs": [],
   "source": []
  }
 ],
 "metadata": {
  "kernelspec": {
   "display_name": "Python 3 (ipykernel)",
   "language": "python",
   "name": "python3"
  },
  "language_info": {
   "codemirror_mode": {
    "name": "ipython",
    "version": 3
   },
   "file_extension": ".py",
   "mimetype": "text/x-python",
   "name": "python",
   "nbconvert_exporter": "python",
   "pygments_lexer": "ipython3",
   "version": "3.11.9"
  }
 },
 "nbformat": 4,
 "nbformat_minor": 5
}
