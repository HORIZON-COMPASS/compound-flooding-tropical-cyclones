{
 "cells": [
  {
   "cell_type": "markdown",
   "id": "f8d4a17e",
   "metadata": {},
   "source": [
    "# Modelbuilder\n",
    "This notebook is based on the ModelBuilder template from dfm_tools v0.23.0 (accessed on 18/07/2024). \n",
    "\n",
    "To run this notebook, you need to install Python environment dfm_tools_env following the [installation instructions](https://deltares.github.io/dfm_tools/installation).\n",
    "\n",
    "The notebook generates a D-Flow FM model from scratch using a number of settings, starting with a lat/lon box for the area of interest. \n",
    "\n",
    "This modelbuilder combines many other Python packages. We use [MeshKernelPy](https://github.com/Deltares/MeshKernelPy) for grid generation, [HYDROLIB-core](https://github.com/Deltares/HYDROLIB-core) to write all D-Flow FM files (like *.mdu, *.ext, *.bc), [xarray](https://github.com/pydata/xarray) to process netcdf files and [xugrid](https://github.com/Deltares/xugrid) to process ugrid netcdf files. Everything is wrapped in [dfm_tools](https://github.com/Deltares/dfm_tools) which also provide additional features.\n",
    "\n",
    "### Mozambique\n",
    "This notebook is adapted to set up a model for Mozambique coast, with the goal of modelling tropical cyclone-induced coastal water levels for the EU COMPASS project.\n",
    "\n",
    "Notebook adapted by: aleksand\n",
    "\n",
    "Necessary preparation:\n",
    " - If using tropical cyclone meteorology based on IBTrACS, it is necessary to generate .spw forcing files separately, and then specify the path to this file in settings. Note: spw files are generated using a Matlab-based tool."
   ]
  },
  {
   "cell_type": "markdown",
   "id": "4c5ebf79-0eb6-4a17-9222-5df5c2b63786",
   "metadata": {},
   "source": [
    "## 1. Registering for data retrieval\n",
    "\n",
    "**only if you want to download data from CDS, e.g. ERA5:**  \n",
    "In this notebook we use publicly available data from Copernicus Programme of the European Union. To access this data you need to create account at the [Climate Data Store](https://cds-beta.climate.copernicus.eu/) (cds-beta). Do not forget to accept the CDS license agreement. You will be promted for your CDS apikey by this notebook automatically and they will be stored locally. If you want to avoid the prompt, set the environment variable CDSAPI_KEY (format for the latter is `{uid}:{apikey}`).\n"
   ]
  },
  {
   "cell_type": "markdown",
   "id": "80b2bf65-c1de-4a6b-8a4f-d2543643f7cc",
   "metadata": {},
   "source": [
    "## 2. Imports and user variables\n",
    "We start by importing the libraries that are used in this notebook and setting some user input variables that for instance define the spatial and time extent of the resulting model.\n",
    "\n",
    "### Exercises\n",
    "- change/extend the model simulation period (`date_min` and `date_max` variables)\n",
    "- create a new `model_name` and corresponding domain (`lon_min`, `lon_max`, `lat_min`, `lat_max` variables). Use an area of approximately 1x1 degrees for a quick test.\n"
   ]
  },
  {
   "cell_type": "code",
   "execution_count": 1,
   "id": "31527e43",
   "metadata": {},
   "outputs": [
    {
     "name": "stderr",
     "output_type": "stream",
     "text": [
      "c:\\Users\\aleksand\\AppData\\Local\\miniforge3\\envs\\dfm_tools_env\\Lib\\site-packages\\tqdm\\auto.py:21: TqdmWarning: IProgress not found. Please update jupyter and ipywidgets. See https://ipywidgets.readthedocs.io/en/stable/user_install.html\n",
      "  from .autonotebook import tqdm as notebook_tqdm\n"
     ]
    }
   ],
   "source": [
    "# import packages\n",
    "import os\n",
    "import matplotlib.pyplot as plt\n",
    "plt.close('all')\n",
    "import dfm_tools as dfmt\n",
    "import hydrolib.core.dflowfm as hcdfm\n",
    "import xarray as xr\n",
    "import pandas as pd\n",
    "import geopandas as gpd\n",
    "#import numpy as np\n",
    "import shutil\n",
    "#import rasterio\n",
    "#from pyproj import Transformer\n"
   ]
  },
  {
   "cell_type": "code",
   "execution_count": 3,
   "id": "2a269ce9",
   "metadata": {},
   "outputs": [],
   "source": [
    "# user input\n",
    "model_name = 'mozambique_spw_Kenneth_area_MZB_500m_gebco2024'\n",
    "\n",
    "generate_grid = False # option to skip grid generation if this was already done.\n",
    "overwrite = False # used for downloading of forcing data. Always set to True when changing the domain\n",
    "crs = 'EPSG:4326' # coordinate reference system\n",
    "\n",
    "#dir_output_main = os.path.abspath('..')\n",
    "dir_output_main = r'p:\\11210471-001-compass\\02_Models\\Delft3DFM\\mozambique_model'\n",
    "dir_output_run = os.path.join(dir_output_main,'computations',model_name)\n",
    "dir_output_geom = os.path.join(dir_output_main,'geometry')\n",
    "dir_output_bc = os.path.join(dir_output_main,'boundary_conditions')\n",
    "\n",
    "# path_style = 'windows' # windows / unix\n",
    "\n",
    "# domain and resolution\n",
    "# dxy is the base grid resolution - i.e. the coarsest grid size in your grid. It is in degrees.\n",
    "# min_edge_size is the \n",
    "if (model_name=='mozambique_large') | (model_name=='mozambique_spw_Idai') | (model_name=='mozambique_spw_Idai_differentspwfile'):\n",
    "    lon_min, lon_max, lat_min, lat_max =  32.55, 47.22, -27.84, -9.15\n",
    "    dxy = 0.24; min_edge_size = 1500 # in meters\n",
    "elif model_name=='mozambique_spw_Idai_highresgrid':\n",
    "    lon_min, lon_max, lat_min, lat_max =  32.55, 47.22, -27.84, -9.6\n",
    "    dxy = 0.1; min_edge_size = 400 # in meters\n",
    "\n",
    "elif 'areaBeira_500m' in model_name:\n",
    "    lon_min, lon_max, lat_min, lat_max = 34, 40.3, -22.79,-15.98\n",
    "    dxy = 0.2 ; min_edge_size = 450 # m \n",
    "elif 'area_MZBlarge_500m' in model_name:\n",
    "    lon_min, lon_max, lat_min, lat_max = 32.3, 45.5, -27.4,-9.5\n",
    "    dxy = 0.2 # degrees\n",
    "    min_edge_size = 450 # m \n",
    "elif 'area_MZBlarge_200m' in model_name:\n",
    "    lon_min, lon_max, lat_min, lat_max = 32.3, 45.5, -27.4,-9.5\n",
    "    dxy = 0.2 # degrees\n",
    "    min_edge_size = 200 # m    \n",
    "elif 'area_MZB_500m' in model_name:\n",
    "    lon_min, lon_max, lat_min, lat_max = 32.3, 42.5, -27.4,-9.5\n",
    "    dxy = 0.2 # degrees\n",
    "    min_edge_size = 450 # m  \n",
    "elif 'area_MZB_200m' in model_name:\n",
    "    lon_min, lon_max, lat_min, lat_max = 32.3, 42.5, -27.4,-9.5\n",
    "    dxy = 0.2 # degrees\n",
    "    min_edge_size = 200 # m      \n",
    "\n",
    "#dates as understood by pandas.period_range(). \n",
    "if 'Idai' in model_name:\n",
    "    date_min = '2019-03-05 00:00:00' \n",
    "    date_max = '2019-03-19 06:00:00'\n",
    "    ref_date = '2019-01-01'\n",
    "elif 'Kenneth' in model_name:\n",
    "    date_min = '2019-04-21 21:00:00' \n",
    "    date_max = '2019-04-30 00:00:00'\n",
    "    ref_date = '2019-01-01' \n",
    "elif 'Freddy1' in model_name:\n",
    "    date_min = '2023-02-21 00:00:00'\n",
    "    date_max = '2023-02-27 06:00:00'\n",
    "    ref_date = '2023-01-01'    \n",
    "elif 'Freddy2' in model_name:\n",
    "    date_min = '2023-03-02 06:00:00'\n",
    "    date_max = '2023-03-17 00:00:00'\n",
    "    ref_date = '2023-01-01'    \n",
    "\n",
    "# forcing\n",
    "if model_name=='mozambique_large':\n",
    "    meteo_type = 'ERA5'\n",
    "    spw = 0\n",
    "elif 'spw' in model_name:\n",
    "    meteo_type = 'spiderweb'\n",
    "    spw = 1\n",
    "# Can we add option for spiderweb+ERA5? Could not make it work yet.\n",
    "\n",
    "if 'spw_Idai' in model_name:    \n",
    "    spw_name = 'tc_Idai'\n",
    "    spw_file_origin = r'p:\\11210471-001-compass\\02_Models\\Delft3DFM\\mozambique_model\\boundary_conditions\\meteo\\TC\\tc_IDAI_2019063S18038.spw'\n",
    "    output_bbox = [34, -21, 36, -19] \n",
    "elif 'spw_Kenneth' in model_name:    \n",
    "    spw_name = 'tc_Kenneth'\n",
    "    spw_file_origin = r'p:\\11210471-001-compass\\02_Models\\Delft3DFM\\mozambique_model\\boundary_conditions\\meteo\\TC\\tc_KENNETH_2019112S10053.spw'\n",
    "    output_bbox = [40, -15, 42, -11] \n",
    "elif 'spw_Freddy1' in model_name:    \n",
    "    spw_name = 'tc_Freddy1'\n",
    "    spw_file_origin = r'p:\\11210471-001-compass\\02_Models\\Delft3DFM\\mozambique_model\\boundary_conditions\\meteo\\TC\\tc_FREDDY_2023036S12118.spw'\n",
    "    output_bbox = [34, -24, 36, -21] \n",
    "elif 'spw_Freddy2' in model_name:    \n",
    "    spw_name = 'tc_Freddy2'\n",
    "    spw_file_origin = r'p:\\11210471-001-compass\\02_Models\\Delft3DFM\\mozambique_model\\boundary_conditions\\meteo\\TC\\tc_FREDDY_2023061S22036.spw'\n",
    "    output_bbox = [34, -24, 36, -21] \n",
    "\n",
    "# Choose tidal model\n",
    "tidemodel = 'GTSMv4.1_opendap' # tidemodel: FES2014, FES2012, EOT20, GTSMv4.1, GTSMv4.1_opendap\n",
    "    \n"
   ]
  },
  {
   "cell_type": "code",
   "execution_count": 4,
   "id": "47f22ce4",
   "metadata": {},
   "outputs": [],
   "source": [
    "# make directories\n",
    "os.makedirs(dir_output_run, exist_ok=True)"
   ]
  },
  {
   "cell_type": "markdown",
   "id": "bb8b737e",
   "metadata": {},
   "source": [
    "## 3. Grid generation and refinement with meshkernelpy\n",
    "\n",
    "To build a model we first need to generate a grid. We do this with [MeshKernelPy](https://github.com/Deltares/MeshKernelPy), a Python wrapper for the [MeshKernel](https://github.com/Deltares/MeshKernel), which is the Deltares C++ library for creating and editing meshes. It supports 1D & 2D unstructured meshes as well as curvilinear meshes. We will create a 2D unstructured mesh (grid) in this example.\n",
    "\n",
    "We start by generating a basegrid for the spatial extent and generate a polygon for the seaward boundary. This is followed by refinement based on GEBCO bathymetry, cutting away the landward part of the grid. Lastly, we interpolate bathymetry to the grid and save the grid as a network file (_net.nc file). The seaward boundary is converted to a [HYDROLIB-core](https://github.com/Deltares/HYDROLIB-core) `dflowfm.PolyFile` (*.pli file). With these files, the first part of the D-Flow FM model is generated.\n",
    "\n",
    "More advanced examples of grid generation are available at [the MeshkernelPy Github](https://github.com/Deltares/MeshKernelPy/blob/main/docs/examples/06_mesh2d_refinement_gridded_samples_gebco.ipynb) and [the dfm_tools Github](https://github.com/Deltares/dfm_tools/blob/main/tests/examples_workinprogress/workinprogress_meshkernel_creategrid.py).\n",
    "\n",
    "### Exercises\n",
    "- apply more/less refinement to the grid (`min_edge_size` variable)\n",
    "- generate a `PolyFile` with more/less points (`res` variable in `dfmt.interpolate_bndpli()`)\n"
   ]
  },
  {
   "cell_type": "code",
   "execution_count": 6,
   "id": "17d99041",
   "metadata": {},
   "outputs": [
    {
     "name": "stdout",
     "output_type": "stream",
     "text": [
      ">> xu.open_dataset() with 1 partition(s): 1 [5 nan fillvalue attrs removed][nodomainvar] : 0.58 sec\n"
     ]
    }
   ],
   "source": [
    "# File name for the grid network\n",
    "netfile = os.path.join(dir_output_run, f'{model_name}_net.nc')\n",
    "\n",
    "# Load grid if it was already generated\n",
    "if not generate_grid:\n",
    "    xu_grid_uds = dfmt.open_partitioned_dataset(netfile)"
   ]
  },
  {
   "cell_type": "code",
   "execution_count": 7,
   "id": "376b92a8",
   "metadata": {},
   "outputs": [],
   "source": [
    "if generate_grid:\n",
    "    # generate spherical regular grid\n",
    "    mk_object = dfmt.make_basegrid(lon_min, lon_max, lat_min, lat_max, dx=dxy, dy=dxy, crs=crs)\n",
    "\n",
    "    # generate plifile from grid extent and coastlines\n",
    "    bnd_gdf = dfmt.generate_bndpli_cutland(mk=mk_object, res='h', buffer=0.2)\n",
    "    bnd_gdf_interp = dfmt.interpolate_bndpli(bnd_gdf, res=0.03)"
   ]
  },
  {
   "cell_type": "code",
   "execution_count": 8,
   "id": "216e0d0d",
   "metadata": {},
   "outputs": [],
   "source": [
    "poly_file = os.path.join(dir_output_run, f'{model_name}.pli')\n",
    "if generate_grid:\n",
    "    # filter out boundary sections that are very short (<5km in this case)\n",
    "    ids = []\n",
    "    for ii in range(len(bnd_gdf_interp.index)):\n",
    "        if bnd_gdf_interp.iloc[ii].values.to_crs('EPSG:3857').length < 5000: # approx. 111 km in 1 degree\n",
    "            ids.append(ii)\n",
    "\n",
    "    bnd_gdf_interp = bnd_gdf_interp.drop(ids)\n",
    "    bnd_gdf_interp\n",
    "\n",
    "    pli_polyfile = dfmt.geodataframe_to_PolyFile(bnd_gdf_interp)\n",
    "    pli_polyfile.save(poly_file)"
   ]
  },
  {
   "cell_type": "code",
   "execution_count": 9,
   "id": "e8a581c5",
   "metadata": {},
   "outputs": [],
   "source": [
    "if generate_grid:\n",
    "    # plot basegrid and polyline\n",
    "    fig, ax = plt.subplots()\n",
    "    mk_object.mesh2d_get().plot_edges(ax,zorder=1)\n",
    "    bnd_gdf_interp.plot(ax=ax, edgecolor='r')\n",
    "    # ctx.add_basemap(ax=ax, crs=crs, attribution=False)\n",
    "    dfmt.plot_coastlines(ax=ax, crs=crs)\n"
   ]
  },
  {
   "cell_type": "code",
   "execution_count": 10,
   "id": "f1b8fcd7",
   "metadata": {},
   "outputs": [],
   "source": [
    "# connect to a coarse version of the GEBCO_2022 dataset on OPeNDAP\n",
    "# alternatively download your own full resolution cutout from https://download.gebco.net (use a buffer of e.g. 1 degree)\n",
    "#file_nc_bathy = \"https://opendap.deltares.nl/thredds/dodsC/opendap/deltares/Delft3D/netcdf_example_files/GEBCO_2022/GEBCO_2022_coarsefac08.nc\"\n",
    "if generate_grid:\n",
    "    if 'gebco2020' in model_name:\n",
    "        file_bathy = r'p:\\metocean-data\\open\\GEBCO\\2020\\GEBCO_2020.nc'\n",
    "        data_bathy = xr.open_dataset(file_bathy).elevation\n",
    "        data_bathy_sel = data_bathy.sel(lon=slice(lon_min-1, lon_max+1), lat=slice(lat_min-1, lat_max+1),drop=True)\n",
    "    elif 'gebco2023' in model_name:\n",
    "        file_nc_bathy_sel = r'p:\\11210471-001-compass\\01_Data\\Gebco\\gebco_2023_n-8.0_s-29.0_w31.5_e48.5.nc'\n",
    "        data_bathy_sel = xr.open_dataset(file_nc_bathy_sel).elevation\n",
    "    elif 'gebco2024' in model_name:\n",
    "        file_nc_bathy_sel = r'p:\\11210471-001-compass\\01_Data\\Gebco\\gebco_2024_n-8.0_s-30.0_w30.0_e50.0.nc'\n",
    "        data_bathy_sel = xr.open_dataset(file_nc_bathy_sel).elevation\n",
    "        \n",
    "    data_bathy_sel.load()\n",
    "\n",
    "# alternatively you can connect to ETOPO 30s, for which there is also a 15s (15 arcseconds) resolution dataset available\n",
    "# file_nc_bathy = \"https://www.ngdc.noaa.gov/thredds/dodsC/global/ETOPO2022/30s/30s_surface_elev_netcdf/ETOPO_2022_v1_30s_N90W180_surface.nc\"\n",
    "# data_bathy = xr.open_dataset(file_nc_bathy).z\n",
    "\n",
    "# subset to area of interest\n",
    "#data_bathy_sel = data_bathy.sel(lon=slice(lon_min-1, lon_max+1), lat=slice(lat_min-1, lat_max+1))\n"
   ]
  },
  {
   "cell_type": "code",
   "execution_count": 11,
   "id": "00da9a3e-8a5d-44ab-ada5-119dc77b2cf9",
   "metadata": {},
   "outputs": [],
   "source": [
    "if generate_grid:\n",
    "    # refine grid\n",
    "    dfmt.refine_basegrid(mk=mk_object, data_bathy_sel=data_bathy_sel, min_edge_size=min_edge_size)\n",
    "\n",
    "    # plot\n",
    "    fig, ax = plt.subplots()\n",
    "    mk_object.mesh2d_get().plot_edges(ax,zorder=1)\n",
    "    # ctx.add_basemap(ax=ax, crs=crs, attribution=False)\n",
    "    dfmt.plot_coastlines(ax=ax, crs=crs)\n"
   ]
  },
  {
   "cell_type": "code",
   "execution_count": 12,
   "id": "50b21c40",
   "metadata": {},
   "outputs": [],
   "source": [
    "if generate_grid:\n",
    "    # remove land with GSHHS coastlines\n",
    "    dfmt.meshkernel_delete_withcoastlines(mk=mk_object,res='i',min_area=50,crs=crs)"
   ]
  },
  {
   "cell_type": "code",
   "execution_count": 13,
   "id": "731b61d6",
   "metadata": {},
   "outputs": [],
   "source": [
    "if generate_grid:\n",
    "    # plot\n",
    "    fig, ax = plt.subplots(figsize=(12,7))\n",
    "    mk_object.mesh2d_get().plot_edges(ax,zorder=1)\n",
    "    # ctx.add_basemap(ax=ax, crs=crs, attribution=False)\n",
    "    dfmt.plot_coastlines(ax=ax,res='i',min_area=50,crs=crs)\n",
    "    #ax.set_xlim(46, 46.75)\n",
    "    #ax.set_ylim(-16.25,-15.50)"
   ]
  },
  {
   "cell_type": "code",
   "execution_count": 14,
   "id": "77e8a01f",
   "metadata": {},
   "outputs": [],
   "source": [
    "pathfile_illegalcells = os.path.join(dir_output_run,\"illegalcells.pol\")\n",
    "if generate_grid:\n",
    "    # derive illegalcells geodataframe\n",
    "    illegalcells_gdf = dfmt.meshkernel_get_illegalcells(mk=mk_object)\n",
    "    # create and add drypointsfile if there are any cells generated that will result in high orthogonality\n",
    "    if len(illegalcells_gdf) > 0:\n",
    "        illegalcells_polyfile = dfmt.geodataframe_to_PolyFile(illegalcells_gdf)\n",
    "        illegalcells_polyfile.save(pathfile_illegalcells)"
   ]
  },
  {
   "cell_type": "code",
   "execution_count": 15,
   "id": "291abec0",
   "metadata": {},
   "outputs": [],
   "source": [
    "if generate_grid:\n",
    "    # convert to xugrid\n",
    "    xu_grid_uds = dfmt.meshkernel_to_UgridDataset(mk=mk_object, crs=crs)\n",
    "\n",
    "    # interpolate bathymetry onto the grid\n",
    "    data_bathy_interp = data_bathy_sel.interp(lon=xu_grid_uds.obj.mesh2d_node_x, lat=xu_grid_uds.obj.mesh2d_node_y)\n",
    "    xu_grid_uds['mesh2d_node_z'] = data_bathy_interp.clip(max=10)\n",
    "\n",
    "    # write xugrid grid to netcdf\n",
    "    xu_grid_uds.ugrid.to_netcdf(netfile)\n"
   ]
  },
  {
   "cell_type": "code",
   "execution_count": 16,
   "id": "8600d62b",
   "metadata": {},
   "outputs": [
    {
     "name": "stdout",
     "output_type": "stream",
     "text": [
      ">> reading coastlines: 10.22 sec\n"
     ]
    },
    {
     "data": {
      "image/png": "[encoded data removed]",
      "text/plain": [
       "<Figure size 800x400 with 2 Axes>"
      ]
     },
     "metadata": {},
     "output_type": "display_data"
    }
   ],
   "source": [
    "# plot bathymetry and grid\n",
    "fig, ax = plt.subplots(figsize=(8,4))\n",
    "xu_grid_uds.mesh2d_node_z.ugrid.plot(ax=ax,center=False)\n",
    "xu_grid_uds.grid.plot(ax=ax,linewidth=0.5,color='white',alpha=0.2)\n",
    "# ctx.add_basemap(ax=ax, crs=crs, attribution=False)\n",
    "dfmt.plot_coastlines(ax=ax, crs=crs)"
   ]
  },
  {
   "cell_type": "markdown",
   "id": "9a42a849",
   "metadata": {},
   "source": [
    "## 4. Generate boundary conditions from tidal model (new *.ext file)\n",
    "To simulate something useful we need boundary conditions for the model. These boundary conditions are forced via the new *.ext file. We initialize a [HYDROLIB-core](https://github.com/Deltares/HYDROLIB-core) `dflowfm.ExtModel` instance and append boundaries to it.\n",
    "\n",
    "We start with the interpolation of tidal components from a global database. If you are working outside of the Deltares network, only the `*_opendap` sources will be available. The components of the chosen tidal model are interpolated to the points of the `dflowfm.PolyFile` we generated in the previous step and converted to a [HYDROLIB-core](https://github.com/Deltares/HYDROLIB-core) `dflowfm.ForcingModel` (*.bc file). The resulting tidal boundary condition has a set of tidal components with amplitudes and phases for each boundary point.\n"
   ]
  },
  {
   "cell_type": "code",
   "execution_count": 17,
   "id": "caf3ae68",
   "metadata": {},
   "outputs": [],
   "source": [
    "# generate new format external forcings file (.ext): initial and open boundary condition\n",
    "ext_file_new = os.path.join(dir_output_run, f'{model_name}_new.ext')\n",
    "ext_new = hcdfm.ExtModel()"
   ]
  },
  {
   "cell_type": "code",
   "execution_count": 18,
   "id": "c096aba4",
   "metadata": {},
   "outputs": [
    {
     "name": "stdout",
     "output_type": "stream",
     "text": [
      "> interp mfdataset to all PolyFile points (lat/lon coordinates)\n",
      "> actual extraction of data from netcdf with .load() (for 1005 plipoints at once, this might take a while)\n",
      ">>time passed: 250.19 sec\n",
      "Converting 1005 plipoints to hcdfm.ForcingModel(): 1 2 3 4 5 6 7 8 9 10 11 12 13 14 15 16 17 18 19 20 21 22 23 24 25 26 27 28 29 30 31 32 33 34 35 36 37 38 39 40 41 42 43 44 45 46 47 48 49 50 51 52 53 54 55 56 57 58 59 60 61 62 63 64 65 66 67 68 69 70 71 72 73 74 75 76 77 78 79 80 81 82 83 84 85 86 87 88 89 90 91 92 93 94 95 96 97 98 99 100 101 102 103 104 105 106 107 108 109 110 111 112 113 114 115 116 117 118 119 120 121 122 123 124 125 126 127 128 129 130 131 132 133 134 135 136 137 138 139 140 141 142 143 144 145 146 147 148 149 150 151 152 153 154 155 156 157 158 159 160 161 162 163 164 165 166 167 168 169 170 171 172 173 174 175 176 177 178 179 180 181 182 183 184 185 186 187 188 189 190 191 192 193 194 195 196 197 198 199 200 201 202 203 204 205 206 207 208 209 210 211 212 213 214 215 216 217 218 219 220 221 222 223 224 225 226 227 228 229 230 231 232 233 234 235 236 237 238 239 240 241 242 243 244 245 246 247 248 249 250 251 252 253 254 255 256 257 258 259 260 261 262 263 264 265 266 267 268 269 270 271 272 273 274 275 276 277 278 279 280 281 282 283 284 285 286 287 288 289 290 291 292 293 294 295 296 297 298 299 300 301 302 303 304 305 306 307 308 309 310 311 312 313 314 315 316 317 318 319 320 321 322 323 324 325 326 327 328 329 330 331 332 333 334 335 336 337 338 339 340 341 342 343 344 345 346 347 348 349 350 351 352 353 354 355 356 357 358 359 360 361 362 363 364 365 366 367 368 369 370 371 372 373 374 375 376 377 378 379 380 381 382 383 384 385 386 387 388 389 390 391 392 393 394 395 396 397 398 399 400 401 402 403 404 405 406 407 408 409 410 411 412 413 414 415 416 417 418 419 420 421 422 423 424 425 426 427 428 429 430 431 432 433 434 435 436 437 438 439 440 441 442 443 444 445 446 447 448 449 450 451 452 453 454 455 456 457 458 459 460 461 462 463 464 465 466 467 468 469 470 471 472 473 474 475 476 477 478 479 480 481 482 483 484 485 486 487 488 489 490 491 492 493 494 495 496 497 498 499 500 501 502 503 504 505 506 507 508 509 510 511 512 513 514 515 516 517 518 519 520 521 522 523 524 525 526 527 528 529 530 531 532 533 534 535 536 537 538 539 540 541 542 543 544 545 546 547 548 549 550 551 552 553 554 555 556 557 558 559 560 561 562 563 564 565 566 567 568 569 570 571 572 573 574 575 576 577 578 579 580 581 582 583 584 585 586 587 588 589 590 591 592 593 594 595 596 597 598 599 600 601 602 603 604 605 606 607 608 609 610 611 612 613 614 615 616 617 618 619 620 621 622 623 624 625 626 627 628 629 630 631 632 633 634 635 636 637 638 639 640 641 642 643 644 645 646 647 648 649 650 651 652 653 654 655 656 657 658 659 660 661 662 663 664 665 666 667 668 669 670 671 672 673 674 675 676 677 678 679 680 681 682 683 684 685 686 687 688 689 690 691 692 693 694 695 696 697 698 699 700 701 702 703 704 705 706 707 708 709 710 711 712 713 714 715 716 717 718 719 720 721 722 723 724 725 726 727 728 729 730 731 732 733 734 735 736 737 738 739 740 741 742 743 744 745 746 747 748 749 750 751 752 753 754 755 756 757 758 759 760 761 762 763 764 765 766 767 768 769 770 771 772 773 774 775 776 777 778 779 780 781 782 783 784 785 786 787 788 789 790 791 792 793 794 795 796 797 798 799 800 801 802 803 804 805 806 807 808 809 810 811 812 813 814 815 816 817 818 819 820 821 822 823 824 825 826 827 828 829 830 831 832 833 834 835 836 837 838 839 840 841 842 843 844 845 846 847 848 849 850 851 852 853 854 855 856 857 858 859 860 861 862 863 864 865 866 867 868 869 870 871 872 873 874 875 876 877 878 879 880 881 882 883 884 885 886 887 888 889 890 891 892 893 894 895 896 897 898 899 900 901 902 903 904 905 906 907 908 909 910 911 912 913 914 915 916 917 918 919 920 921 922 923 924 925 926 927 928 929 930 931 932 933 934 935 936 937 938 939 940 941 942 943 944 945 946 947 948 949 950 951 952 953 954 955 956 957 958 959 960 961 962 963 964 965 966 967 968 969 970 971 972 973 974 975 976 977 978 979 980 981 982 983 984 985 986 987 988 989 990 991 992 993 994 995 996 997 998 999 1000 1001 1002 1003 1004 1005. >> done in 2.43 sec\n"
     ]
    }
   ],
   "source": [
    "# interpolate tidal components to boundary conditions file (.bc)\n",
    "dfmt.interpolate_tide_to_bc(ext_new=ext_new, tidemodel=tidemodel, file_pli=poly_file, component_list=None)"
   ]
  },
  {
   "cell_type": "code",
   "execution_count": 19,
   "id": "9a95ab1c",
   "metadata": {},
   "outputs": [],
   "source": [
    "#save new ext file\n",
    "ext_new.save(filepath=ext_file_new) # ,path_style=path_style)"
   ]
  },
  {
   "cell_type": "markdown",
   "id": "f3f508fd",
   "metadata": {},
   "source": [
    "## 5. Define meteo forcing (old *.ext file)\n",
    "We will supply more boundary conditions to the model via the old *.ext file. We initialize a [HYDROLIB-core](https://github.com/Deltares/HYDROLIB-core) `dflowfm.ExtOldModel` instance and append boundaries to it. These boundaries are [HYDROLIB-core](https://github.com/Deltares/HYDROLIB-core) `dflowfm.ExtOldForcing` instances.\n",
    "\n",
    "Meteo forcing is define using one of the sources below:\n",
    " - ERA5 meteo data - retrieved from the Copernicus [Climate Data Store](https://cds.climate.copernicus.eu/user/register). The netcdf files are merged in time and written to the netcdf format expected by D-Flow FM.\n",
    " - Tropical cyclone meteo forcing defined using a spiderweb (spw) file"
   ]
  },
  {
   "cell_type": "code",
   "execution_count": 20,
   "id": "103d6a06",
   "metadata": {},
   "outputs": [],
   "source": [
    "# generate old format external forcings file (.ext): spatial data\n",
    "ext_file_old = os.path.join(dir_output_run, f'{model_name}_old.ext')"
   ]
  },
  {
   "cell_type": "code",
   "execution_count": 21,
   "id": "05ea6ee6",
   "metadata": {},
   "outputs": [],
   "source": [
    "ext_old = hcdfm.ExtOldModel()\n",
    "\n",
    "if meteo_type=='ERA5': # ERA5 - download spatial fields of air pressure, wind speeds and Charnock coefficient\n",
    "    dir_output_data_era5 = os.path.join(dir_output_bc,'meteo', 'ERA5')\n",
    "    os.makedirs(dir_output_data_era5, exist_ok=True)\n",
    "        \n",
    "    varlist_list = [['msl','u10n','v10n','chnk']]\n",
    "    for varlist in varlist_list:\n",
    "        for varkey in varlist:\n",
    "            dfmt.download_ERA5(varkey, \n",
    "                            longitude_min=lon_min, longitude_max=lon_max, latitude_min=lat_min, latitude_max=lat_max,\n",
    "                            date_min=date_min, date_max=date_max,\n",
    "                            dir_output=dir_output_data_era5, overwrite=overwrite)\n",
    "\n",
    "    # ERA5 meteo - convert to netCDF for usage in Delft3D FM\n",
    "    ext_old = dfmt.preprocess_merge_meteofiles_era5(ext_old=ext_old,\n",
    "                                                    varkey_list=varlist_list,\n",
    "                                                    dir_data=dir_output_data_era5,\n",
    "                                                    dir_output=dir_output_run,\n",
    "                                                    time_slice=slice(date_min, date_max))\n",
    "elif meteo_type == 'spiderweb':\n",
    "    spw_file = spw_name + '.spw'\n",
    "    shutil.copyfile(spw_file_origin, os.path.join(dir_output_run,spw_file))\n",
    "\n",
    "    uniformwind_filename = 'uniformwind0.wnd'\n",
    "    shutil.copyfile(os.path.join(dir_output_bc,'meteo',uniformwind_filename),os.path.join(dir_output_run,uniformwind_filename))\n",
    "\n",
    "    forcing_uniformwind = hcdfm.ExtOldForcing(quantity='windxy',\n",
    "                                        filename=uniformwind_filename,\n",
    "                                        filetype=hcdfm.ExtOldFileType.TimeSeries, \n",
    "                                        method=hcdfm.ExtOldMethod.PassThrough, \n",
    "                                        operand=hcdfm.Operand.override)\n",
    "    ext_old.forcing.append(forcing_uniformwind)\n",
    "    \n",
    "    forcing_spw = hcdfm.ExtOldForcing(quantity='airpressure_windx_windy',\n",
    "                                        filename=spw_file,\n",
    "                                        filetype=hcdfm.ExtOldFileType.SpiderWebData, \n",
    "                                        method=hcdfm.ExtOldMethod.PassThrough, \n",
    "                                        operand=hcdfm.Operand.add)\n",
    "    ext_old.forcing.append(forcing_spw)\n",
    "\n",
    "elif meteo_type == 'spiderweb+ERA5': # does not work so far\n",
    "    # ERA5\n",
    "    dir_output_data_era5 = os.path.join(dir_output_bc,'meteo', 'ERA5')\n",
    "    os.makedirs(dir_output_data_era5, exist_ok=True)\n",
    "    \n",
    "    varlist_list = [['msl','u10n','v10n']]\n",
    "    for varlist in varlist_list:\n",
    "        for varkey in varlist:\n",
    "            dfmt.download_ERA5(varkey, \n",
    "                            longitude_min=lon_min, longitude_max=lon_max, latitude_min=lat_min, latitude_max=lat_max,\n",
    "                            date_min=date_min, date_max=date_max,\n",
    "                            dir_output=dir_output_data_era5, overwrite=overwrite)\n",
    "\n",
    "    # ERA5 meteo - convert to netCDF for usage in Delft3D FM\n",
    "    ext_old = dfmt.preprocess_merge_meteofiles_era5(ext_old=ext_old,\n",
    "                                                    varkey_list=varlist_list,\n",
    "                                                    dir_data=dir_output_data_era5,\n",
    "                                                    dir_output=dir_output_run,\n",
    "                                                    time_slice=slice(date_min, date_max))\n",
    "    \n",
    "    # spiderweb\n",
    "    spw_file = spw_name + '.spw'\n",
    "    shutil.copyfile(spw_file_origin, os.path.join(dir_output_run,spw_file))\n",
    "    forcing_spw = hcdfm.ExtOldForcing(quantity='airpressure_windx_windy',\n",
    "                                        filename=spw_file,\n",
    "                                        filetype=hcdfm.ExtOldFileType.SpiderWebData, \n",
    "                                        method=hcdfm.ExtOldMethod.PassThrough, \n",
    "                                        operand=hcdfm.Operand.override)\n",
    "    ext_old.forcing.append(forcing_spw)\n",
    "\n",
    "ext_old.save(filepath=ext_file_old) # , path_style=path_style)\n"
   ]
  },
  {
   "cell_type": "code",
   "execution_count": 22,
   "id": "aa42e934",
   "metadata": {},
   "outputs": [],
   "source": [
    "if 'ERA5' in meteo_type:\n",
    "    # plot converted ERA5 data\n",
    "    file_era5 = os.path.join(dir_output_bc,'meteo','ERA5',f'*{date_min[:4]}*.nc')\n",
    "    ds_era5 = xr.open_mfdataset(file_era5)\n",
    "    ds_era5\n",
    "\n",
    "    # plot\n",
    "    fig, (ax1,ax2) = plt.subplots(1,2,figsize=(10,5))\n",
    "    ds_era5.u10n.isel(time=0).plot(ax=ax1)\n",
    "    dfmt.plot_coastlines(ax=ax1, crs=crs)\n",
    "    ds_era5.v10n.isel(time=0).plot(ax=ax2)\n",
    "    dfmt.plot_coastlines(ax=ax2, crs=crs)\n",
    "    fig.tight_layout()\n"
   ]
  },
  {
   "cell_type": "markdown",
   "id": "81a65644",
   "metadata": {},
   "source": [
    "## 6. Generate obsfile\n",
    "The D-Flow FM model wil have mapoutput and hisoutput. A file with coordinates of obs stations will be generated."
   ]
  },
  {
   "cell_type": "code",
   "execution_count": 23,
   "id": "0e40739b",
   "metadata": {},
   "outputs": [],
   "source": [
    "# Read shp file of points along the MZB coastline\n",
    "gdfp = gpd.read_file(r'p:\\11210471-001-compass\\01_Data\\Coastal_boundary\\points\\coastal_bnd_MZB_5mMSL_points_1km.shp')"
   ]
  },
  {
   "cell_type": "code",
   "execution_count": 24,
   "id": "e41f4ab8",
   "metadata": {},
   "outputs": [
    {
     "ename": "NameError",
     "evalue": "name 'output_bbox' is not defined",
     "output_type": "error",
     "traceback": [
      "\u001b[1;31m---------------------------------------------------------------------------\u001b[0m",
      "\u001b[1;31mNameError\u001b[0m                                 Traceback (most recent call last)",
      "Cell \u001b[1;32mIn[24], line 2\u001b[0m\n\u001b[0;32m      1\u001b[0m \u001b[38;5;66;03m# crop output points to the area where output is needed for the flood model\u001b[39;00m\n\u001b[1;32m----> 2\u001b[0m gdfp \u001b[38;5;241m=\u001b[39m gdfp\u001b[38;5;241m.\u001b[39mcx[\u001b[43moutput_bbox\u001b[49m[\u001b[38;5;241m0\u001b[39m]:output_bbox[\u001b[38;5;241m2\u001b[39m],output_bbox[\u001b[38;5;241m1\u001b[39m]:output_bbox[\u001b[38;5;241m3\u001b[39m]]\n",
      "\u001b[1;31mNameError\u001b[0m: name 'output_bbox' is not defined"
     ]
    }
   ],
   "source": [
    "# crop output points to the area where output is needed for the flood model\n",
    "gdfp = gdfp.cx[output_bbox[0]:output_bbox[2],output_bbox[1]:output_bbox[3]]"
   ]
  },
  {
   "cell_type": "code",
   "execution_count": 19,
   "id": "22dcc7a4",
   "metadata": {},
   "outputs": [],
   "source": [
    "# Convert points to the xyn file format\n",
    "xcor = gdfp['geometry'][:].x; xcor.name = 'x'\n",
    "ycor = gdfp['geometry'][:].y; ycor.name = 'y'\n",
    "tmp = pd.concat([xcor,ycor],axis=1)\n",
    "tmp = tmp.dropna()\n",
    "tmp['names'] = tmp.index"
   ]
  },
  {
   "cell_type": "code",
   "execution_count": 20,
   "id": "05634d9b",
   "metadata": {},
   "outputs": [],
   "source": [
    "# Load extra points that are used for verification\n",
    "tmp2 = pd.read_table(r'p:\\11210471-001-compass\\02_Models\\Delft3DFM\\mozambique_model\\geometry\\output_locations\\MZB_Sofala_IHO_obs.xyn',sep=\" \",names=['x', 'y', 'names'])\n"
   ]
  },
  {
   "cell_type": "code",
   "execution_count": 26,
   "id": "719d0ad5",
   "metadata": {},
   "outputs": [],
   "source": [
    "pd_obs = tmp2._append(tmp,ignore_index=True); del tmp, tmp2"
   ]
  },
  {
   "cell_type": "code",
   "execution_count": 27,
   "id": "cdacbbcf",
   "metadata": {},
   "outputs": [],
   "source": [
    " # save obs points\n",
    "file_obs = os.path.join(dir_output_run, f'{model_name}_obs.xyn')\n",
    "pd_obs.to_csv(file_obs, sep=' ', header=False, index=False, float_format='%.6f')"
   ]
  },
  {
   "cell_type": "code",
   "execution_count": 30,
   "id": "6d10a4b7",
   "metadata": {},
   "outputs": [
    {
     "name": "stdout",
     "output_type": "stream",
     "text": [
      ">> reading coastlines: 10.14 sec\n"
     ]
    },
    {
     "data": {
      "image/png": "[encoded data removed]",
      "text/plain": [
       "<Figure size 800x400 with 1 Axes>"
      ]
     },
     "metadata": {},
     "output_type": "display_data"
    }
   ],
   "source": [
    "# plot obs points\n",
    "fig, ax = plt.subplots(figsize=(8,4))\n",
    "xu_grid_uds.grid.plot(ax=ax,linewidth=0.5,color='k',alpha=0.2)\n",
    "ax.plot(pd_obs['x'],pd_obs['y'],'rx')\n",
    "dfmt.plot_coastlines(ax=ax, crs=crs)"
   ]
  },
  {
   "cell_type": "markdown",
   "id": "0b238951",
   "metadata": {},
   "source": [
    "## 7. Generate mdu file\n",
    "In order for the model to run, we need a model definition file. In case of D-Flow FM this is a *.mdu file, represented by the [HYDROLIB-core](https://github.com/Deltares/HYDROLIB-core) `dflowfm.FMModel`. This is initialized and many of the files we generated above (network, extfiles, obsfile) are linked here. You can visualize the resulting model tree with `mdu.show_tree()`. We can also adjust any of the parameters in the *.mdu file by setting them here."
   ]
  },
  {
   "cell_type": "code",
   "execution_count": 87,
   "id": "0f01a183",
   "metadata": {},
   "outputs": [],
   "source": [
    "# initialize mdu file and update settings\n",
    "mdu_file = os.path.join(dir_output_run, f'{model_name}.mdu')\n",
    "\n",
    "#mdu = hcdfm.FMModel()\n",
    "\n",
    "# use mdu file from GTSM\n",
    "base_mdu = os.path.join(dir_output_main,'general','base_model_settings.mdu')\n",
    "mdu = hcdfm.FMModel(base_mdu)\n",
    "\n",
    "if os.path.exists(pathfile_illegalcells):\n",
    "    mdu.geometry.drypointsfile = pathfile_illegalcells\n",
    "\n",
    "# add the grid (_net.nc, network file)\n",
    "mdu.geometry.netfile = netfile\n",
    "\n",
    "# add the external forcing files (.ext)\n",
    "mdu.external_forcing.extforcefile = ext_file_old\n",
    "mdu.external_forcing.extforcefilenew = ext_file_new\n",
    "\n",
    "# Define drag coefficient \n",
    "mdu.wind.icdtyp = 3 \n",
    "mdu.wind.cdbreakpoints = [0.001, 0.003, 0.0015]\n",
    "mdu.wind.windspeedbreakpoints = [0, 25, 50]\n",
    "\n",
    "# update time settings\n",
    "mdu.time.refdate = pd.Timestamp(ref_date).strftime('%Y%m%d')\n",
    "mdu.time.tunit = 'S'\n",
    "mdu.time.dtmax = 30\n",
    "mdu.time.startdatetime = pd.Timestamp(date_min).strftime('%Y%m%d%H%M%S')\n",
    "mdu.time.stopdatetime = pd.Timestamp(date_max).strftime('%Y%m%d%H%M%S')\n",
    "mdu.time.autotimestep = 3\n",
    "\n",
    "# update output settings\n",
    "mdu.output.obsfile = file_obs\n",
    "mdu.output.hisinterval = [600] #s\n",
    "mdu.output.mapinterval = [3600]\n",
    "mdu.output.rstinterval = [0]\n",
    "mdu.output.statsinterval = [3600]\n",
    "\n",
    "# output wind\n",
    "mdu.output.wrimap_wind = 1\n",
    "\n",
    "# save .mdu file\n",
    "mdu.save(mdu_file) # ,path_style=path_style)\n",
    "\n",
    "# make all paths relative (might be properly implemented in https://github.com/Deltares/HYDROLIB-core/issues/532)\n",
    "dfmt.make_paths_relative(mdu_file)"
   ]
  },
  {
   "cell_type": "markdown",
   "id": "357d32a9",
   "metadata": {},
   "source": [
    "## 8. Generate DIMR and bat file\n",
    "In order to run the model via DIMR we need a `dimr_config.xml` file. If you are running this notebook on a Windows platform, a *.bat file will also be created with which you can run the model directly. In order for this to work you need to update the `dimrset_folder` to the path where the `x64` and or `lnx64` folder is located. Provide `None` if you have no D-Flow FM executable available on your system.\n"
   ]
  },
  {
   "cell_type": "code",
   "execution_count": 66,
   "id": "402cdb08",
   "metadata": {},
   "outputs": [
    {
     "name": "stdout",
     "output_type": "stream",
     "text": [
      "writing dimr_config.xml\n",
      "writing run_parallel.bat\n"
     ]
    }
   ],
   "source": [
    "nproc = 4 # number of processes\n",
    "dimrset_folder = r\"p:\\d-hydro\\dimrset\\weekly\\2.25.17.78708\" # alternatively r\"c:\\Program Files\\Deltares\\Delft3D FM Suite 2023.03 HMWQ\\plugins\\DeltaShell.Dimr\\kernels\" #alternatively r\"p:\\d-hydro\\dimrset\\weekly\\2.25.17.78708\"\n",
    "dfmt.create_model_exec_files(file_mdu=mdu_file, nproc=nproc, dimrset_folder=dimrset_folder)\n"
   ]
  },
  {
   "cell_type": "code",
   "execution_count": 67,
   "id": "7255cd81",
   "metadata": {},
   "outputs": [],
   "source": [
    "# add a batch file to submit job to h7 cluster (as al alternative to running it on your node or computer)\n",
    "batchfile_h7 = r'p:\\11210471-001-compass\\02_Models\\Delft3DFM\\mozambique_model\\scripts\\submit_singularity_h7.sh'\n",
    "\n",
    "pathfile_h7 = os.path.join(dir_output_run,'submit_singularity_h7.sh')\n",
    "\n",
    "replacements = {'JOBNAME':'MZB', 'MDUFILE':f'{model_name}.mdu'}\n",
    "\n",
    "with open(batchfile_h7) as infile, open(pathfile_h7, 'w',newline='\\n') as outfile:\n",
    "    for line in infile:\n",
    "        for src, target in replacements.items():\n",
    "            line = line.replace(src, target)\n",
    "        outfile.write(line)"
   ]
  },
  {
   "cell_type": "markdown",
   "id": "cf77ed64",
   "metadata": {},
   "source": [
    "## 9. Visualize model tree"
   ]
  },
  {
   "cell_type": "code",
   "execution_count": 134,
   "id": "25bcaec2",
   "metadata": {},
   "outputs": [
    {
     "name": "stdout",
     "output_type": "stream",
     "text": [
      "  p:\\11210471-001-compass\\02_Models\\Delft3DFM\\mozambique_model\\computations\\mozambique_spw_Kenneth_area_MZBcropped_500m_gebco2024\\mozambique_spw_Kenneth_area_MZBcropped_500m_gebco2024.mdu\n",
      "    Geometry\n",
      "     ∟ mozambique_spw_Kenneth_area_MZBcropped_500m_gebco2024_net.nc\n",
      "     ∟ illegalcells.pol\n",
      "    ExternalForcing\n",
      "     ∟ mozambique_spw_Kenneth_area_MZBcropped_500m_gebco2024_old.ext\n",
      "       ∟ ExtOldForcing\n",
      "         ∟ uniformwind0.wnd\n",
      "       ∟ ExtOldForcing\n",
      "         ∟ tc_Kenneth.spw\n",
      "     ∟ mozambique_spw_Kenneth_area_MZBcropped_500m_gebco2024_new.ext\n",
      "       ∟ Boundary\n",
      "         ∟ L1.pli\n",
      "         ∟ tide_GTSMv4.1_opendap.bc\n",
      "       ∟ Boundary\n",
      "         ∟ L2.pli\n",
      "         ∟ tide_GTSMv4.1_opendap.bc\n",
      "    Output\n",
      "     ∟ mozambique_spw_Kenneth_area_MZBcropped_500m_gebco2024_obs.xyn\n"
     ]
    }
   ],
   "source": [
    "# visualize the model tree, show_tree is available for all HYDROLIB-core model components\n",
    "mdu_obj = hcdfm.FMModel(mdu_file)\n",
    "mdu_obj.show_tree()"
   ]
  },
  {
   "cell_type": "markdown",
   "id": "6e68ca38-f908-4e66-b51d-60b66b12bac5",
   "metadata": {},
   "source": [
    "# "
   ]
  },
  {
   "cell_type": "markdown",
   "id": "3bda34a2",
   "metadata": {},
   "source": []
  },
  {
   "cell_type": "markdown",
   "id": "e169bf59",
   "metadata": {},
   "source": []
  }
 ],
 "metadata": {
  "kernelspec": {
   "display_name": "dfm_tools_env",
   "language": "python",
   "name": "python3"
  },
  "language_info": {
   "codemirror_mode": {
    "name": "ipython",
    "version": 3
   },
   "file_extension": ".py",
   "mimetype": "text/x-python",
   "name": "python",
   "nbconvert_exporter": "python",
   "pygments_lexer": "ipython3",
   "version": "3.12.6"
  }
 },
 "nbformat": 4,
 "nbformat_minor": 5
}
