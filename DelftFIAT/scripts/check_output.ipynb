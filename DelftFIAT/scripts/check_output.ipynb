{
 "cells": [
  {
   "cell_type": "code",
   "execution_count": 1,
   "metadata": {},
   "outputs": [],
   "source": [
    "# Import a method\n",
    "from fiat.io import open_csv\n",
    "from pathlib import Path\n",
    "import pandas as pd"
   ]
  },
  {
   "cell_type": "code",
   "execution_count": 4,
   "metadata": {},
   "outputs": [
    {
     "name": "stdout",
     "output_type": "stream",
     "text": [
      "Index(['Object ID', 'Primary Object Type', 'Secondary Object Type',\n",
      "       'Max Potential Damage: Structure', 'Max Potential Damage: Content',\n",
      "       'Ground Floor Height', 'Extraction Method', 'Ground Elevation',\n",
      "       'Damage Function: Structure', 'Damage Function: Content',\n",
      "       'Inundation Depth', 'Reduction Factor', 'Damage: Structure',\n",
      "       'Damage: Content', 'Total Damage'],\n",
      "      dtype='object')\n",
      "60310731.18999999\n"
     ]
    }
   ],
   "source": [
    "# check the output\n",
    "# out = open_csv(Path(r\"..\\computations\\example\\output\", \"output.csv\"), index=\"object_id\")\n",
    "# print(out.columns)\n",
    "\n",
    "# Load the CSV file into a pandas DataFrame\n",
    "csv_path = Path(r\"c:\\Code\\Delft-FIAT\\hydromt_fiat\\FIAT_database\\Doris_model_fromSarah\\output\", \"output.csv\")\n",
    "df = pd.read_csv(csv_path)\n",
    "\n",
    "# Check the column names to confirm the structure\n",
    "print(df.columns)\n",
    "\n",
    "# Extract the total damage values\n",
    "total_damage = df['Total Damage'].sum()\n",
    "print(total_damage)\n"
   ]
  },
  {
   "cell_type": "code",
   "execution_count": null,
   "metadata": {},
   "outputs": [],
   "source": []
  },
  {
   "cell_type": "code",
   "execution_count": null,
   "metadata": {},
   "outputs": [],
   "source": []
  }
 ],
 "metadata": {
  "kernelspec": {
   "display_name": "fiat_dev",
   "language": "python",
   "name": "python3"
  },
  "language_info": {
   "codemirror_mode": {
    "name": "ipython",
    "version": 3
   },
   "file_extension": ".py",
   "mimetype": "text/x-python",
   "name": "python",
   "nbconvert_exporter": "python",
   "pygments_lexer": "ipython3",
   "version": "3.13.0"
  }
 },
 "nbformat": 4,
 "nbformat_minor": 2
}
