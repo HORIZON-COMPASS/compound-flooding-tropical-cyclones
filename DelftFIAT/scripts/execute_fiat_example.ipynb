{
 "cells": [
  {
   "cell_type": "code",
   "execution_count": 10,
   "metadata": {
    "vscode": {
     "languageId": "shellscript"
    }
   },
   "outputs": [
    {
     "name": "stdout",
     "output_type": "stream",
     "text": [
      "\n",
      "###############################################################\n",
      "\n",
      "        #########    ##          ##      ##############\n",
      "        ##           ##         ####         ######\n",
      "        ##           ##         ####           ##\n",
      "        ##           ##        ##  ##          ##\n",
      "        ######       ##        ##  ##          ##\n",
      "        ##           ##       ########         ##\n",
      "        ##           ##      ##      ##        ##\n",
      "        ##           ##     ##        ##       ##\n",
      "        ##           ##    ##          ##      ##\n",
      "\n",
      "###############################################################\n",
      "\n",
      "                Fast Impact Assessment Tool\n",
      "                © Deltares\n",
      "\n",
      "2024-12-02 15:55:30 INFO    Delft-Fiat version: 0.2.0\n",
      "2024-12-02 15:55:30 INFO    Setting up geom model..\n",
      "2024-12-02 15:55:30 INFO    Using settings from 'p:\\11210471-001-compass\\03_Runs\\FIAT\\sfincs_idai_test\\settings.toml'\n",
      "2024-12-02 15:55:30 INFO    Model srs set to: 'EPSG:4326'\n",
      "2024-12-02 15:55:30 INFO    Using number of threads: 1\n",
      "2024-12-02 15:55:30 INFO    Reading hazard data ('floodmap.nc')\n",
      "2024-12-02 15:55:32 INFO    Executing hazard checks...\n",
      "2024-12-02 15:55:32 WARNING Spatial reference of 'floodmap.nc' ('EPSG:32736') does not match the model spatial reference ('EPSG:4326')\n",
      "2024-12-02 15:55:32 INFO    Reprojecting 'floodmap.nc' to 'EPSG:4326'\n",
      "2024-12-02 15:55:56 INFO    Reading vulnerability curves ('vulnerability_curves.csv')\n",
      "2024-12-02 15:55:56 INFO    Executing vulnerability checks...\n",
      "2024-12-02 15:55:56 INFO    Upscaling vulnerability curves, using a step size of: 0.01\n",
      "2024-12-02 15:55:56 INFO    Reading exposure geometry 'file1' ('buildings.gpkg')\n",
      "2024-12-02 15:55:56 INFO    Executing exposure geometry checks...\n",
      "2024-12-02 15:55:56 INFO    Reading exposure data ('exposure.csv')\n",
      "2024-12-02 15:56:02 INFO    Executing exposure data checks...\n",
      "2024-12-02 15:56:02 INFO    Starting the calculations\n",
      "2024-12-02 15:56:02 INFO    Busy...\n",
      "2024-12-02 15:57:30 INFO    Calculations time: 87.28 seconds\n",
      "2024-12-02 15:57:30 INFO    Output generated in: 'p:\\11210471-001-compass\\03_Runs\\FIAT\\sfincs_idai_test\\output'\n",
      "2024-12-02 15:57:30 INFO    Geom calculation are done!\n"
     ]
    }
   ],
   "source": [
    "# Run FIAT using your compass-fiat environment\n",
    "! fiat run \"p:/11210471-001-compass/03_Runs/FIAT/sfincs_idai_test/settings.toml\""
   ]
  },
  {
   "cell_type": "code",
   "execution_count": null,
   "metadata": {},
   "outputs": [],
   "source": []
  }
 ],
 "metadata": {
  "kernelspec": {
   "display_name": "compass-fiat",
   "language": "python",
   "name": "python3"
  },
  "language_info": {
   "codemirror_mode": {
    "name": "ipython",
    "version": 3
   },
   "file_extension": ".py",
   "mimetype": "text/x-python",
   "name": "python",
   "nbconvert_exporter": "python",
   "pygments_lexer": "ipython3",
   "version": "3.11.10"
  }
 },
 "nbformat": 4,
 "nbformat_minor": 2
}
