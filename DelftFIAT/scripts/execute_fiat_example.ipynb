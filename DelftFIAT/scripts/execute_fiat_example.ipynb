{
 "cells": [
  {
   "cell_type": "code",
   "execution_count": 1,
   "metadata": {
    "vscode": {
     "languageId": "shellscript"
    }
   },
   "outputs": [
    {
     "name": "stdout",
     "output_type": "stream",
     "text": [
      "\n",
      "###############################################################\n",
      "\n",
      "        #########    ##          ##      ##############\n",
      "        ##           ##         ####         ######\n",
      "        ##           ##         ####           ##\n",
      "        ##           ##        ##  ##          ##\n",
      "        ######       ##        ##  ##          ##\n",
      "        ##           ##       ########         ##\n",
      "        ##           ##      ##      ##        ##\n",
      "        ##           ##     ##        ##       ##\n",
      "        ##           ##    ##          ##      ##\n",
      "\n",
      "###############################################################\n",
      "\n",
      "                Fast Impact Assessment Tool\n",
      "                © Deltares\n",
      "\n",
      "2024-11-12 17:50:32 INFO    Delft-Fiat version: 0.2.0\n",
      "2024-11-12 17:50:32 INFO    Setting up geom model..\n",
      "2024-11-12 17:50:32 INFO    Using settings from 'c:\\Code\\COMPASS\\COMPASS_updated\\COMPASS\\DelftFIAT\\scripts\\..\\computations\\example\\settings.toml'\n",
      "2024-11-12 17:50:33 INFO    Model srs set to: 'EPSG:4326'\n",
      "2024-11-12 17:50:33 INFO    Using number of threads: 1\n",
      "2024-11-12 17:50:33 INFO    Reading hazard data ('floodmap.nc')\n",
      "2024-11-12 17:50:33 INFO    Executing hazard checks...\n",
      "2024-11-12 17:50:33 WARNING Spatial reference of 'floodmap.nc' ('EPSG:32736') does not match the model spatial reference ('EPSG:4326')\n",
      "2024-11-12 17:50:33 INFO    Reprojecting 'floodmap.nc' to 'EPSG:4326'\n",
      "2024-11-12 17:50:33 INFO    Reading vulnerability curves ('vulnerability_curves.csv')\n",
      "2024-11-12 17:50:33 INFO    Executing vulnerability checks...\n",
      "2024-11-12 17:50:33 INFO    Upscaling vulnerability curves, using a step size of: 0.01\n",
      "2024-11-12 17:50:33 INFO    Reading exposure geometry 'file1' ('buildings.gpkg')\n",
      "2024-11-12 17:50:33 INFO    Executing exposure geometry checks...\n",
      "2024-11-12 17:50:33 INFO    Reading exposure data ('exposure.csv')\n",
      "2024-11-12 17:50:34 INFO    Executing exposure data checks...\n",
      "2024-11-12 17:50:34 INFO    Starting the calculations\n",
      "2024-11-12 17:50:34 INFO    Busy...\n",
      "2024-11-12 17:50:57 INFO    Calculations time: 22.47 seconds\n",
      "2024-11-12 17:50:57 INFO    Output generated in: 'c:\\Code\\COMPASS\\COMPASS_updated\\COMPASS\\DelftFIAT\\scripts\\..\\computations\\example\\output'\n",
      "2024-11-12 17:50:57 INFO    Geom calculation are done!\n"
     ]
    }
   ],
   "source": [
    "# Run FIAT using your compass-fiat environment\n",
    "! fiat run \"../computations/example/settings.toml\""
   ]
  },
  {
   "cell_type": "code",
   "execution_count": null,
   "metadata": {
    "vscode": {
     "languageId": "shellscript"
    }
   },
   "outputs": [],
   "source": []
  }
 ],
 "metadata": {
  "kernelspec": {
   "display_name": "compass-fiat",
   "language": "python",
   "name": "python3"
  },
  "language_info": {
   "codemirror_mode": {
    "name": "ipython",
    "version": 3
   },
   "file_extension": ".py",
   "mimetype": "text/x-python",
   "name": "python",
   "nbconvert_exporter": "python",
   "pygments_lexer": "ipython3",
   "version": "3.11.10"
  }
 },
 "nbformat": 4,
 "nbformat_minor": 2
}
