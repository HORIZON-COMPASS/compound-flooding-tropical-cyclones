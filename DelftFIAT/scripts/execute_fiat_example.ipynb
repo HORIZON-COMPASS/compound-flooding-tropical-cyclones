{
 "cells": [
  {
   "cell_type": "code",
   "execution_count": 1,
   "metadata": {
    "vscode": {
     "languageId": "shellscript"
    }
   },
   "outputs": [
    {
     "name": "stdout",
     "output_type": "stream",
     "text": [
      "\n",
      "###############################################################\n",
      "\n",
      "        #########    ##          ##      ##############\n",
      "        ##           ##         ####         ######\n",
      "        ##           ##         ####           ##\n",
      "        ##           ##        ##  ##          ##\n",
      "        ######       ##        ##  ##          ##\n",
      "        ##           ##       ########         ##\n",
      "        ##           ##      ##      ##        ##\n",
      "        ##           ##     ##        ##       ##\n",
      "        ##           ##    ##          ##      ##\n",
      "\n",
      "###############################################################\n",
      "\n",
      "                Fast Impact Assessment Tool\n",
      "                © Deltares\n",
      "\n",
      "2024-11-05 10:40:04 INFO    Delft-Fiat version: 0.1.0.dev\n",
      "2024-11-05 10:40:04 INFO    Setting up geom model..\n",
      "2024-11-05 10:40:04 INFO    Using settings from 'C:\\Code\\Delft-FIAT\\examples\\FIAT_database\\example_local\\settings.toml'\n",
      "2024-11-05 10:40:05 INFO    Available number of threads: 12\n",
      "2024-11-05 10:40:05 INFO    Model srs set to: 'EPSG:4326'\n",
      "2024-11-05 10:40:05 INFO    Reading hazard data ('floodmap.nc')\n",
      "2024-11-05 10:40:05 INFO    Executing hazard checks...\n",
      "2024-11-05 10:40:05 WARNING Spatial reference of 'floodmap.nc' ('EPSG:32736') does not match the model spatial reference ('EPSG:4326')\n",
      "2024-11-05 10:40:05 INFO    Reprojecting 'floodmap.nc' to 'EPSG:4326'\n",
      "2024-11-05 10:40:05 INFO    Reading vulnerability curves ('vulnerability_curves.csv')\n",
      "2024-11-05 10:40:05 INFO    Executing vulnerability checks...\n",
      "2024-11-05 10:40:05 INFO    Upscaling vulnerability curves, using a step size of: 0.01\n",
      "2024-11-05 10:40:05 INFO    Reading exposure data ('exposure.csv')\n",
      "2024-11-05 10:40:06 INFO    Executing exposure data checks...\n",
      "2024-11-05 10:40:06 INFO    Reading exposure geometry 'file1' ('buildings.gpkg')\n",
      "2024-11-05 10:40:06 INFO    Executing exposure geometry checks...\n",
      "2024-11-05 10:40:06 INFO    Starting the calculations\n",
      "2024-11-05 10:40:06 INFO    Using number of threads: 1\n",
      "2024-11-05 10:40:06 INFO    Busy...\n",
      "2024-11-05 10:40:24 INFO    Calculations time: 17.15 seconds\n",
      "2024-11-05 10:40:24 INFO    Producing model output from temporary files\n",
      "2024-11-05 10:40:24 INFO    Busy...\n",
      "2024-11-05 10:40:46 INFO    Output generated in: 'C:\\Code\\Delft-FIAT\\examples\\FIAT_database\\example_local\\output'\n",
      "2024-11-05 10:40:46 INFO    Deleting temporary files...\n",
      "2024-11-05 10:40:46 INFO    Geom calculation are done!\n"
     ]
    }
   ],
   "source": [
    "! fiat run \"C:/Code/Delft-FIAT/examples/FIAT_database/example_local/settings.toml\""
   ]
  },
  {
   "cell_type": "code",
   "execution_count": 2,
   "metadata": {},
   "outputs": [
    {
     "name": "stdout",
     "output_type": "stream",
     "text": [
      "('Primary Object Type', 'Secondary Object Type', 'Max Potential Damage: Structure', 'Max Potential Damage: Content', 'Ground Floor Height', 'Extraction Method', 'Ground Elevation', 'Damage Function: Structure', 'Damage Function: Content', 'Inundation Depth', 'Reduction Factor', 'Damage: Structure', 'Damage: Content', 'Total Damage')\n"
     ]
    }
   ],
   "source": [
    "# Import a method\n",
    "from fiat.io import open_csv\n",
    "from pathlib import Path\n",
    "\n",
    "# check the output\n",
    "out = open_csv(Path(r\"c:\\Code\\Delft-FIAT\\examples\\FIAT_database\\example_bySarah\\output\", \"output.csv\"), index=\"object_id\")\n",
    "print(out.columns)"
   ]
  },
  {
   "cell_type": "code",
   "execution_count": 3,
   "metadata": {},
   "outputs": [
    {
     "data": {
      "text/plain": [
       "<Table object at 0X0000017614DBD2B0>"
      ]
     },
     "execution_count": 3,
     "metadata": {},
     "output_type": "execute_result"
    }
   ],
   "source": [
    "out"
   ]
  },
  {
   "cell_type": "code",
   "execution_count": 4,
   "metadata": {},
   "outputs": [
    {
     "name": "stdout",
     "output_type": "stream",
     "text": [
      "Index(['Object ID', 'Primary Object Type', 'Secondary Object Type',\n",
      "       'Max Potential Damage: Structure', 'Max Potential Damage: Content',\n",
      "       'Ground Floor Height', 'Extraction Method', 'Ground Elevation',\n",
      "       'Damage Function: Structure', 'Damage Function: Content',\n",
      "       'Inundation Depth', 'Reduction Factor', 'Damage: Structure',\n",
      "       'Damage: Content', 'Total Damage'],\n",
      "      dtype='object')\n",
      "60310731.18999999\n"
     ]
    }
   ],
   "source": [
    "import pandas as pd\n",
    "from pathlib import Path\n",
    "\n",
    "# Load the CSV file into a pandas DataFrame\n",
    "csv_path = Path(r\"c:\\Code\\Delft-FIAT\\examples\\FIAT_database\\example_bySarah\\output\", \"output.csv\")\n",
    "df = pd.read_csv(csv_path)\n",
    "\n",
    "# Check the column names to confirm the structure\n",
    "print(df.columns)\n",
    "\n",
    "# Extract the total damage values\n",
    "total_damage = df['Total Damage'].sum()\n",
    "print(total_damage)\n"
   ]
  },
  {
   "cell_type": "code",
   "execution_count": null,
   "metadata": {},
   "outputs": [],
   "source": []
  },
  {
   "cell_type": "code",
   "execution_count": null,
   "metadata": {},
   "outputs": [],
   "source": []
  }
 ],
 "metadata": {
  "kernelspec": {
   "display_name": "fiat_dev",
   "language": "python",
   "name": "python3"
  },
  "language_info": {
   "codemirror_mode": {
    "name": "ipython",
    "version": 3
   },
   "file_extension": ".py",
   "mimetype": "text/x-python",
   "name": "python",
   "nbconvert_exporter": "python",
   "pygments_lexer": "ipython3",
   "version": "3.13.0"
  }
 },
 "nbformat": 4,
 "nbformat_minor": 2
}
