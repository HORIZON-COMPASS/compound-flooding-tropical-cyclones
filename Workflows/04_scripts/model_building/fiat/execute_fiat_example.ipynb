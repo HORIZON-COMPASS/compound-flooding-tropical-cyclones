{
 "cells": [
  {
   "cell_type": "code",
   "execution_count": 2,
   "metadata": {
    "vscode": {
     "languageId": "shellscript"
    }
   },
   "outputs": [
    {
     "name": "stdout",
     "output_type": "stream",
     "text": [
      "\n",
      "###############################################################\n",
      "\n",
      "        #########    ##          ##      ##############\n",
      "        ##           ##         ####         ######\n",
      "        ##           ##         ####           ##\n",
      "        ##           ##        ##  ##          ##\n",
      "        ######       ##        ##  ##          ##\n",
      "        ##           ##       ########         ##\n",
      "        ##           ##      ##      ##        ##\n",
      "        ##           ##     ##        ##       ##\n",
      "        ##           ##    ##          ##      ##\n",
      "\n",
      "###############################################################\n",
      "\n",
      "                Fast Impact Assessment Tool\n",
      "                © Deltares\n",
      "\n",
      "2025-04-02 17:27:48 INFO    Delft-Fiat version: 0.2.1.dev\n",
      "2025-04-02 17:27:48 INFO    Setting up geom model..\n",
      "2025-04-02 17:27:48 INFO    Using settings from 'c:\\Code\\Delft-FIAT\\tests\\event_tp_era5_hourly_CF0_GTSMv41opendap_CF0_spw_IBTrACS_CF-10\\settings.toml'\n",
      "2025-04-02 17:27:48 INFO    Model srs set to: 'EPSG:4326'\n",
      "2025-04-02 17:27:48 INFO    Using number of threads: 1\n",
      "2025-04-02 17:27:48 INFO    Reading hazard data ('floodmap.nc')\n",
      "2025-04-02 17:27:48 INFO    Executing hazard checks...\n",
      "2025-04-02 17:27:48 WARNING Spatial reference of 'floodmap.nc' ('EPSG:32736') does not match the model spatial reference ('EPSG:4326')\n",
      "2025-04-02 17:27:48 INFO    Reprojecting 'floodmap.nc' to 'EPSG:4326'\n",
      "2025-04-02 17:27:50 INFO    Reading vulnerability curves ('vulnerability_curves.csv')\n",
      "2025-04-02 17:27:50 INFO    Executing vulnerability checks...\n",
      "2025-04-02 17:27:50 INFO    Upscaling vulnerability curves, using a step size of: 0.01\n",
      "2025-04-02 17:27:50 INFO    Reading exposure geometry 'file1' ('buildings.gpkg')\n",
      "2025-04-02 17:27:50 INFO    Executing exposure geometry checks...\n",
      "2025-04-02 17:27:50 INFO    Reading exposure data ('exposure.csv')\n",
      "2025-04-02 17:27:55 INFO    Executing exposure data checks...\n",
      "2025-04-02 17:27:55 INFO    Starting the calculations\n",
      "2025-04-02 17:27:55 INFO    Busy...\n",
      "2025-04-02 17:29:28 INFO    Calculations time: 93.24 seconds\n",
      "2025-04-02 17:29:28 INFO    Output generated in: 'c:\\Code\\Delft-FIAT\\tests\\event_tp_era5_hourly_CF0_GTSMv41opendap_CF0_spw_IBTrACS_CF-10\\output'\n",
      "2025-04-02 17:29:28 INFO    Geom calculation are done!\n"
     ]
    }
   ],
   "source": [
    "# Run FIAT using your compass-fiat environment\n",
    "! fiat run \"c:/Code/Delft-FIAT/tests/event_tp_era5_hourly_CF0_GTSMv41opendap_CF0_spw_IBTrACS_CF-10/settings.toml\""
   ]
  },
  {
   "cell_type": "code",
   "execution_count": null,
   "metadata": {},
   "outputs": [],
   "source": []
  }
 ],
 "metadata": {
  "kernelspec": {
   "display_name": "fiat_dev",
   "language": "python",
   "name": "python3"
  },
  "language_info": {
   "codemirror_mode": {
    "name": "ipython",
    "version": 3
   },
   "file_extension": ".py",
   "mimetype": "text/x-python",
   "name": "python",
   "nbconvert_exporter": "python",
   "pygments_lexer": "ipython3",
   "version": "3.13.1"
  }
 },
 "nbformat": 4,
 "nbformat_minor": 2
}
