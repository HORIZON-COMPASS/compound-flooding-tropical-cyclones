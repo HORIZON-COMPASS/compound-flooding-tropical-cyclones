{
 "cells": [
  {
   "cell_type": "code",
   "execution_count": 3,
   "metadata": {
    "vscode": {
     "languageId": "shellscript"
    }
   },
   "outputs": [
    {
     "name": "stdout",
     "output_type": "stream",
     "text": [
      "\n",
      "###############################################################\n",
      "\n",
      "        #########    ##          ##      ##############\n",
      "        ##           ##         ####         ######\n",
      "        ##           ##         ####           ##\n",
      "        ##           ##        ##  ##          ##\n",
      "        ######       ##        ##  ##          ##\n",
      "        ##           ##       ########         ##\n",
      "        ##           ##      ##      ##        ##\n",
      "        ##           ##     ##        ##       ##\n",
      "        ##           ##    ##          ##      ##\n",
      "\n",
      "###############################################################\n",
      "\n",
      "                Fast Impact Assessment Tool\n",
      "                © Deltares\n",
      "\n",
      "2025-04-02 16:55:08 INFO    Delft-Fiat version: 0.2.1.dev\n",
      "2025-04-02 16:55:08 INFO    Setting up geom model..\n",
      "2025-04-02 16:55:08 INFO    Using settings from 'p:\\11210471-001-compass\\03_Runs\\sofala\\Idai\\fiat\\event_tp_era5_hourly_CF0_GTSMv41opendap_CF0_spw_IBTrACS_CF-10\\settings.toml'\n",
      "2025-04-02 16:55:08 INFO    Model srs set to: 'EPSG:4326'\n",
      "2025-04-02 16:55:08 INFO    Using number of threads: 1\n",
      "2025-04-02 16:55:08 INFO    Reading hazard data ('floodmap.nc')\n",
      "2025-04-02 16:55:08 INFO    Executing hazard checks...\n",
      "2025-04-02 16:55:08 WARNING Spatial reference of 'floodmap.nc' ('EPSG:32736') does not match the model spatial reference ('EPSG:4326')\n",
      "2025-04-02 16:55:08 INFO    Reprojecting 'floodmap.nc' to 'EPSG:4326'\n",
      "2025-04-02 16:55:16 INFO    Reading vulnerability curves ('vulnerability_curves.csv')\n",
      "2025-04-02 16:55:16 INFO    Executing vulnerability checks...\n",
      "2025-04-02 16:55:16 INFO    Upscaling vulnerability curves, using a step size of: 0.01\n",
      "2025-04-02 16:55:16 INFO    Reading exposure geometry 'file1' ('buildings.gpkg')\n",
      "2025-04-02 16:55:16 INFO    Executing exposure geometry checks...\n",
      "2025-04-02 16:55:16 INFO    Reading exposure data ('exposure.csv')\n",
      "2025-04-02 16:55:18 INFO    Executing exposure data checks...\n",
      "2025-04-02 16:55:24 ERROR   sqlite3_exec(CREATE TRIGGER \"trigger_delete_feature_count_spatial\" AFTER DELETE ON \"spatial\" BEGIN UPDATE gpkg_ogr_contents SET feature_count = feature_count - 1 WHERE lower(table_name) = lower('spatial'); END;) failed: unable to open database file\n",
      "May be caused by: sqlite3_exec(CREATE TRIGGER \"trigger_insert_feature_count_spatial\" AFTER INSERT ON \"spatial\" BEGIN UPDATE gpkg_ogr_contents SET feature_count = feature_count + 1 WHERE lower(table_name) = lower('spatial'); END;) failed: unable to op\n"
     ]
    }
   ],
   "source": [
    "# Run FIAT using your compass-fiat environment\n",
    "! fiat run \"p:/11210471-001-compass/03_Runs/sofala/Idai/fiat/event_tp_era5_hourly_CF0_GTSMv41opendap_CF0_spw_IBTrACS_CF-10/settings.toml\""
   ]
  },
  {
   "cell_type": "code",
   "execution_count": null,
   "metadata": {},
   "outputs": [],
   "source": []
  }
 ],
 "metadata": {
  "kernelspec": {
   "display_name": "fiat_dev",
   "language": "python",
   "name": "python3"
  },
  "language_info": {
   "codemirror_mode": {
    "name": "ipython",
    "version": 3
   },
   "file_extension": ".py",
   "mimetype": "text/x-python",
   "name": "python",
   "nbconvert_exporter": "python",
   "pygments_lexer": "ipython3",
   "version": "3.13.1"
  }
 },
 "nbformat": 4,
 "nbformat_minor": 2
}
