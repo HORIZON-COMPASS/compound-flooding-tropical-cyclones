{
 "cells": [
  {
   "cell_type": "code",
   "execution_count": 7,
   "metadata": {
    "vscode": {
     "languageId": "shellscript"
    }
   },
   "outputs": [
    {
     "name": "stdout",
     "output_type": "stream",
     "text": [
      "\n",
      "###############################################################\n",
      "\n",
      "        #########    ##          ##      ##############\n",
      "        ##           ##         ####         ######\n",
      "        ##           ##         ####           ##\n",
      "        ##           ##        ##  ##          ##\n",
      "        ######       ##        ##  ##          ##\n",
      "        ##           ##       ########         ##\n",
      "        ##           ##      ##      ##        ##\n",
      "        ##           ##     ##        ##       ##\n",
      "        ##           ##    ##          ##      ##\n",
      "\n",
      "###############################################################\n",
      "\n",
      "                Fast Impact Assessment Tool\n",
      "                © Deltares\n",
      "\n",
      "2025-04-03 16:54:26 INFO    Delft-Fiat version: 0.3.1\n",
      "2025-04-03 16:54:26 INFO    Using settings from 'p:\\11210471-001-compass\\03_Runs\\sofala\\Idai\\fiat\\event_tp_era5_hourly_CF0_GTSMv41opendap_CF0_spw_IBTrACS_CF-10\\settings.toml'\n",
      "2025-04-03 16:54:26 INFO    Using number of threads: 1\n",
      "2025-04-03 16:54:26 INFO    Model srs set to: 'EPSG:4326'\n",
      "2025-04-03 16:54:26 INFO    Reading hazard data ('floodmap.nc')\n",
      "2025-04-03 16:54:26 INFO    Executing hazard checks...\n",
      "2025-04-03 16:54:26 WARNING Setting the model srs from the hazard data.\n",
      "2025-04-03 16:54:26 INFO    Model srs set to: 'EPSG:32736'\n",
      "2025-04-03 16:54:26 INFO    Reading vulnerability curves ('vulnerability_curves.csv')\n",
      "2025-04-03 16:54:26 INFO    Executing vulnerability checks...\n",
      "2025-04-03 16:54:26 INFO    Upscaling vulnerability curves, using a step size of: 0.01\n",
      "2025-04-03 16:54:26 INFO    Reading exposure geometry 'file1' ('buildings.fgb')\n",
      "2025-04-03 16:54:26 INFO    Executing exposure geometry checks...\n",
      "2025-04-03 16:54:26 WARNING Spatial reference of 'buildings.fgb' ('EPSG:4326') does not match the model spatial reference ('EPSG:32736')\n",
      "2025-04-03 16:54:26 INFO    Reprojecting 'buildings.fgb' to 'EPSG:32736'\n",
      "2025-04-03 16:54:33 INFO    Reading exposure data ('exposure.csv')\n",
      "2025-04-03 16:54:36 INFO    Executing exposure data checks...\n",
      "2025-04-03 16:54:36 INFO    Starting the calculations\n",
      "2025-04-03 16:54:36 INFO    Busy...\n",
      "2025-04-03 16:55:26 INFO    Calculations time: 49.45 seconds\n",
      "2025-04-03 16:55:26 INFO    Output generated in: 'p:\\11210471-001-compass\\03_Runs\\sofala\\Idai\\fiat\\event_tp_era5_hourly_CF0_GTSMv41opendap_CF0_spw_IBTrACS_CF-10\\output'\n",
      "2025-04-03 16:55:26 INFO    Geom calculation are done!\n"
     ]
    }
   ],
   "source": [
    "# Run FIAT using your compass-fiat environment\n",
    "! fiat run \"p:\\11210471-001-compass\\03_Runs\\sofala\\Idai\\fiat\\event_tp_era5_hourly_CF0_GTSMv41opendap_CF0_spw_IBTrACS_CF-10\\settings.toml\""
   ]
  },
  {
   "cell_type": "code",
   "execution_count": null,
   "metadata": {},
   "outputs": [],
   "source": []
  }
 ],
 "metadata": {
  "kernelspec": {
   "display_name": "fiat",
   "language": "python",
   "name": "python3"
  },
  "language_info": {
   "codemirror_mode": {
    "name": "ipython",
    "version": 3
   },
   "file_extension": ".py",
   "mimetype": "text/x-python",
   "name": "python",
   "nbconvert_exporter": "python",
   "pygments_lexer": "ipython3",
   "version": "3.12.8"
  }
 },
 "nbformat": 4,
 "nbformat_minor": 2
}
